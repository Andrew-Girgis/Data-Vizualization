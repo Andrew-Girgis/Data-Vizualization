{
 "cells": [
  {
   "cell_type": "code",
   "execution_count": 1,
   "id": "918621cb-f987-4762-b733-b291614d31b3",
   "metadata": {},
   "outputs": [
    {
     "ename": "ValueError",
     "evalue": "numpy.dtype size changed, may indicate binary incompatibility. Expected 96 from C header, got 88 from PyObject",
     "output_type": "error",
     "traceback": [
      "\u001b[0;31m---------------------------------------------------------------------------\u001b[0m",
      "\u001b[0;31mValueError\u001b[0m                                Traceback (most recent call last)",
      "Cell \u001b[0;32mIn[1], line 1\u001b[0m\n\u001b[0;32m----> 1\u001b[0m \u001b[38;5;28;01mimport\u001b[39;00m \u001b[38;5;21;01mpandas\u001b[39;00m\n\u001b[1;32m      2\u001b[0m \u001b[38;5;28;01mimport\u001b[39;00m \u001b[38;5;21;01mmatplotlib\u001b[39;00m\u001b[38;5;21;01m.\u001b[39;00m\u001b[38;5;21;01mpyplot\u001b[39;00m \u001b[38;5;28;01mas\u001b[39;00m \u001b[38;5;21;01mplt\u001b[39;00m\n\u001b[1;32m      3\u001b[0m \u001b[38;5;28;01mimport\u001b[39;00m \u001b[38;5;21;01mmatplotlib\u001b[39;00m \u001b[38;5;28;01mas\u001b[39;00m \u001b[38;5;21;01mmpl\u001b[39;00m\n",
      "File \u001b[0;32m/Library/Frameworks/Python.framework/Versions/3.12/lib/python3.12/site-packages/pandas/__init__.py:46\u001b[0m\n\u001b[1;32m     43\u001b[0m \u001b[38;5;66;03m# let init-time option registration happen\u001b[39;00m\n\u001b[1;32m     44\u001b[0m \u001b[38;5;28;01mimport\u001b[39;00m \u001b[38;5;21;01mpandas\u001b[39;00m\u001b[38;5;21;01m.\u001b[39;00m\u001b[38;5;21;01mcore\u001b[39;00m\u001b[38;5;21;01m.\u001b[39;00m\u001b[38;5;21;01mconfig_init\u001b[39;00m  \u001b[38;5;66;03m# pyright: ignore[reportUnusedImport] # noqa: F401\u001b[39;00m\n\u001b[0;32m---> 46\u001b[0m \u001b[38;5;28;01mfrom\u001b[39;00m \u001b[38;5;21;01mpandas\u001b[39;00m\u001b[38;5;21;01m.\u001b[39;00m\u001b[38;5;21;01mcore\u001b[39;00m\u001b[38;5;21;01m.\u001b[39;00m\u001b[38;5;21;01mapi\u001b[39;00m \u001b[38;5;28;01mimport\u001b[39;00m (\n\u001b[1;32m     47\u001b[0m     \u001b[38;5;66;03m# dtype\u001b[39;00m\n\u001b[1;32m     48\u001b[0m     ArrowDtype,\n\u001b[1;32m     49\u001b[0m     Int8Dtype,\n\u001b[1;32m     50\u001b[0m     Int16Dtype,\n\u001b[1;32m     51\u001b[0m     Int32Dtype,\n\u001b[1;32m     52\u001b[0m     Int64Dtype,\n\u001b[1;32m     53\u001b[0m     UInt8Dtype,\n\u001b[1;32m     54\u001b[0m     UInt16Dtype,\n\u001b[1;32m     55\u001b[0m     UInt32Dtype,\n\u001b[1;32m     56\u001b[0m     UInt64Dtype,\n\u001b[1;32m     57\u001b[0m     Float32Dtype,\n\u001b[1;32m     58\u001b[0m     Float64Dtype,\n\u001b[1;32m     59\u001b[0m     CategoricalDtype,\n\u001b[1;32m     60\u001b[0m     PeriodDtype,\n\u001b[1;32m     61\u001b[0m     IntervalDtype,\n\u001b[1;32m     62\u001b[0m     DatetimeTZDtype,\n\u001b[1;32m     63\u001b[0m     StringDtype,\n\u001b[1;32m     64\u001b[0m     BooleanDtype,\n\u001b[1;32m     65\u001b[0m     \u001b[38;5;66;03m# missing\u001b[39;00m\n\u001b[1;32m     66\u001b[0m     NA,\n\u001b[1;32m     67\u001b[0m     isna,\n\u001b[1;32m     68\u001b[0m     isnull,\n\u001b[1;32m     69\u001b[0m     notna,\n\u001b[1;32m     70\u001b[0m     notnull,\n\u001b[1;32m     71\u001b[0m     \u001b[38;5;66;03m# indexes\u001b[39;00m\n\u001b[1;32m     72\u001b[0m     Index,\n\u001b[1;32m     73\u001b[0m     CategoricalIndex,\n\u001b[1;32m     74\u001b[0m     RangeIndex,\n\u001b[1;32m     75\u001b[0m     MultiIndex,\n\u001b[1;32m     76\u001b[0m     IntervalIndex,\n\u001b[1;32m     77\u001b[0m     TimedeltaIndex,\n\u001b[1;32m     78\u001b[0m     DatetimeIndex,\n\u001b[1;32m     79\u001b[0m     PeriodIndex,\n\u001b[1;32m     80\u001b[0m     IndexSlice,\n\u001b[1;32m     81\u001b[0m     \u001b[38;5;66;03m# tseries\u001b[39;00m\n\u001b[1;32m     82\u001b[0m     NaT,\n\u001b[1;32m     83\u001b[0m     Period,\n\u001b[1;32m     84\u001b[0m     period_range,\n\u001b[1;32m     85\u001b[0m     Timedelta,\n\u001b[1;32m     86\u001b[0m     timedelta_range,\n\u001b[1;32m     87\u001b[0m     Timestamp,\n\u001b[1;32m     88\u001b[0m     date_range,\n\u001b[1;32m     89\u001b[0m     bdate_range,\n\u001b[1;32m     90\u001b[0m     Interval,\n\u001b[1;32m     91\u001b[0m     interval_range,\n\u001b[1;32m     92\u001b[0m     DateOffset,\n\u001b[1;32m     93\u001b[0m     \u001b[38;5;66;03m# conversion\u001b[39;00m\n\u001b[1;32m     94\u001b[0m     to_numeric,\n\u001b[1;32m     95\u001b[0m     to_datetime,\n\u001b[1;32m     96\u001b[0m     to_timedelta,\n\u001b[1;32m     97\u001b[0m     \u001b[38;5;66;03m# misc\u001b[39;00m\n\u001b[1;32m     98\u001b[0m     Flags,\n\u001b[1;32m     99\u001b[0m     Grouper,\n\u001b[1;32m    100\u001b[0m     factorize,\n\u001b[1;32m    101\u001b[0m     unique,\n\u001b[1;32m    102\u001b[0m     value_counts,\n\u001b[1;32m    103\u001b[0m     NamedAgg,\n\u001b[1;32m    104\u001b[0m     array,\n\u001b[1;32m    105\u001b[0m     Categorical,\n\u001b[1;32m    106\u001b[0m     set_eng_float_format,\n\u001b[1;32m    107\u001b[0m     Series,\n\u001b[1;32m    108\u001b[0m     DataFrame,\n\u001b[1;32m    109\u001b[0m )\n\u001b[1;32m    111\u001b[0m \u001b[38;5;28;01mfrom\u001b[39;00m \u001b[38;5;21;01mpandas\u001b[39;00m\u001b[38;5;21;01m.\u001b[39;00m\u001b[38;5;21;01mcore\u001b[39;00m\u001b[38;5;21;01m.\u001b[39;00m\u001b[38;5;21;01mdtypes\u001b[39;00m\u001b[38;5;21;01m.\u001b[39;00m\u001b[38;5;21;01mdtypes\u001b[39;00m \u001b[38;5;28;01mimport\u001b[39;00m SparseDtype\n\u001b[1;32m    113\u001b[0m \u001b[38;5;28;01mfrom\u001b[39;00m \u001b[38;5;21;01mpandas\u001b[39;00m\u001b[38;5;21;01m.\u001b[39;00m\u001b[38;5;21;01mtseries\u001b[39;00m\u001b[38;5;21;01m.\u001b[39;00m\u001b[38;5;21;01mapi\u001b[39;00m \u001b[38;5;28;01mimport\u001b[39;00m infer_freq\n",
      "File \u001b[0;32m/Library/Frameworks/Python.framework/Versions/3.12/lib/python3.12/site-packages/pandas/core/api.py:1\u001b[0m\n\u001b[0;32m----> 1\u001b[0m \u001b[38;5;28;01mfrom\u001b[39;00m \u001b[38;5;21;01mpandas\u001b[39;00m\u001b[38;5;21;01m.\u001b[39;00m\u001b[38;5;21;01m_libs\u001b[39;00m \u001b[38;5;28;01mimport\u001b[39;00m (\n\u001b[1;32m      2\u001b[0m     NaT,\n\u001b[1;32m      3\u001b[0m     Period,\n\u001b[1;32m      4\u001b[0m     Timedelta,\n\u001b[1;32m      5\u001b[0m     Timestamp,\n\u001b[1;32m      6\u001b[0m )\n\u001b[1;32m      7\u001b[0m \u001b[38;5;28;01mfrom\u001b[39;00m \u001b[38;5;21;01mpandas\u001b[39;00m\u001b[38;5;21;01m.\u001b[39;00m\u001b[38;5;21;01m_libs\u001b[39;00m\u001b[38;5;21;01m.\u001b[39;00m\u001b[38;5;21;01mmissing\u001b[39;00m \u001b[38;5;28;01mimport\u001b[39;00m NA\n\u001b[1;32m      9\u001b[0m \u001b[38;5;28;01mfrom\u001b[39;00m \u001b[38;5;21;01mpandas\u001b[39;00m\u001b[38;5;21;01m.\u001b[39;00m\u001b[38;5;21;01mcore\u001b[39;00m\u001b[38;5;21;01m.\u001b[39;00m\u001b[38;5;21;01mdtypes\u001b[39;00m\u001b[38;5;21;01m.\u001b[39;00m\u001b[38;5;21;01mdtypes\u001b[39;00m \u001b[38;5;28;01mimport\u001b[39;00m (\n\u001b[1;32m     10\u001b[0m     ArrowDtype,\n\u001b[1;32m     11\u001b[0m     CategoricalDtype,\n\u001b[0;32m   (...)\u001b[0m\n\u001b[1;32m     14\u001b[0m     PeriodDtype,\n\u001b[1;32m     15\u001b[0m )\n",
      "File \u001b[0;32m/Library/Frameworks/Python.framework/Versions/3.12/lib/python3.12/site-packages/pandas/_libs/__init__.py:18\u001b[0m\n\u001b[1;32m     16\u001b[0m \u001b[38;5;28;01mimport\u001b[39;00m \u001b[38;5;21;01mpandas\u001b[39;00m\u001b[38;5;21;01m.\u001b[39;00m\u001b[38;5;21;01m_libs\u001b[39;00m\u001b[38;5;21;01m.\u001b[39;00m\u001b[38;5;21;01mpandas_parser\u001b[39;00m  \u001b[38;5;66;03m# noqa: E501 # isort: skip # type: ignore[reportUnusedImport]\u001b[39;00m\n\u001b[1;32m     17\u001b[0m \u001b[38;5;28;01mimport\u001b[39;00m \u001b[38;5;21;01mpandas\u001b[39;00m\u001b[38;5;21;01m.\u001b[39;00m\u001b[38;5;21;01m_libs\u001b[39;00m\u001b[38;5;21;01m.\u001b[39;00m\u001b[38;5;21;01mpandas_datetime\u001b[39;00m  \u001b[38;5;66;03m# noqa: F401,E501 # isort: skip # type: ignore[reportUnusedImport]\u001b[39;00m\n\u001b[0;32m---> 18\u001b[0m \u001b[38;5;28;01mfrom\u001b[39;00m \u001b[38;5;21;01mpandas\u001b[39;00m\u001b[38;5;21;01m.\u001b[39;00m\u001b[38;5;21;01m_libs\u001b[39;00m\u001b[38;5;21;01m.\u001b[39;00m\u001b[38;5;21;01minterval\u001b[39;00m \u001b[38;5;28;01mimport\u001b[39;00m Interval\n\u001b[1;32m     19\u001b[0m \u001b[38;5;28;01mfrom\u001b[39;00m \u001b[38;5;21;01mpandas\u001b[39;00m\u001b[38;5;21;01m.\u001b[39;00m\u001b[38;5;21;01m_libs\u001b[39;00m\u001b[38;5;21;01m.\u001b[39;00m\u001b[38;5;21;01mtslibs\u001b[39;00m \u001b[38;5;28;01mimport\u001b[39;00m (\n\u001b[1;32m     20\u001b[0m     NaT,\n\u001b[1;32m     21\u001b[0m     NaTType,\n\u001b[0;32m   (...)\u001b[0m\n\u001b[1;32m     26\u001b[0m     iNaT,\n\u001b[1;32m     27\u001b[0m )\n",
      "File \u001b[0;32minterval.pyx:1\u001b[0m, in \u001b[0;36minit pandas._libs.interval\u001b[0;34m()\u001b[0m\n",
      "\u001b[0;31mValueError\u001b[0m: numpy.dtype size changed, may indicate binary incompatibility. Expected 96 from C header, got 88 from PyObject"
     ]
    }
   ],
   "source": [
    "import pandas\n",
    "import matplotlib.pyplot as plt\n",
    "import matplotlib as mpl\n",
    "import numpy as np\n"
   ]
  },
  {
   "cell_type": "code",
   "execution_count": null,
   "id": "fa6315a9-22a6-4353-a61a-44dcb4eb730b",
   "metadata": {},
   "outputs": [],
   "source": [
    "from manim import *"
   ]
  },
  {
   "cell_type": "code",
   "execution_count": 2,
   "id": "8cab1968-d3d0-41e2-ba89-fa77d45c64f9",
   "metadata": {},
   "outputs": [],
   "source": [
    "# https://docs.manim.community/en/stable/reference/manim.mobject.graphing.probability.BarChart.html"
   ]
  },
  {
   "cell_type": "code",
   "execution_count": 3,
   "id": "1006d702-ee21-4a62-9aa3-7e15c68d4e90",
   "metadata": {},
   "outputs": [
    {
     "ename": "NameError",
     "evalue": "name 'Scene' is not defined",
     "output_type": "error",
     "traceback": [
      "\u001b[0;31m---------------------------------------------------------------------------\u001b[0m",
      "\u001b[0;31mNameError\u001b[0m                                 Traceback (most recent call last)",
      "Cell \u001b[0;32mIn[3], line 1\u001b[0m\n\u001b[0;32m----> 1\u001b[0m \u001b[38;5;28;01mclass\u001b[39;00m \u001b[38;5;21;01mBarChartExample0\u001b[39;00m(\u001b[43mScene\u001b[49m):\n\u001b[1;32m      2\u001b[0m     \u001b[38;5;28;01mdef\u001b[39;00m \u001b[38;5;21mconstruct\u001b[39m(\u001b[38;5;28mself\u001b[39m):\n\u001b[1;32m      3\u001b[0m         chart \u001b[38;5;241m=\u001b[39m BarChart(\n\u001b[1;32m      4\u001b[0m             values\u001b[38;5;241m=\u001b[39m[\u001b[38;5;241m100\u001b[39m, \u001b[38;5;241m40\u001b[39m, \u001b[38;5;241m30\u001b[39m, \u001b[38;5;241m-\u001b[39m\u001b[38;5;241m50\u001b[39m, \u001b[38;5;241m40\u001b[39m],\n\u001b[1;32m      5\u001b[0m             bar_names\u001b[38;5;241m=\u001b[39m[\u001b[38;5;124m\"\u001b[39m\u001b[38;5;124mone\u001b[39m\u001b[38;5;124m\"\u001b[39m, \u001b[38;5;124m\"\u001b[39m\u001b[38;5;124mtwo\u001b[39m\u001b[38;5;124m\"\u001b[39m, \u001b[38;5;124m\"\u001b[39m\u001b[38;5;124mthree\u001b[39m\u001b[38;5;124m\"\u001b[39m, \u001b[38;5;124m\"\u001b[39m\u001b[38;5;124mfour\u001b[39m\u001b[38;5;124m\"\u001b[39m, \u001b[38;5;124m\"\u001b[39m\u001b[38;5;124mfive\u001b[39m\u001b[38;5;124m\"\u001b[39m],\n\u001b[0;32m   (...)\u001b[0m\n\u001b[1;32m      9\u001b[0m             x_axis_config\u001b[38;5;241m=\u001b[39m{\u001b[38;5;124m\"\u001b[39m\u001b[38;5;124mfont_size\u001b[39m\u001b[38;5;124m\"\u001b[39m: \u001b[38;5;241m36\u001b[39m},\n\u001b[1;32m     10\u001b[0m         )\u001b[38;5;241m.\u001b[39mscale(\u001b[38;5;241m0.5\u001b[39m)\n",
      "\u001b[0;31mNameError\u001b[0m: name 'Scene' is not defined"
     ]
    }
   ],
   "source": [
    "class BarChartExample0(Scene):\n",
    "    def construct(self):\n",
    "        chart = BarChart(\n",
    "            values=[100, 40, 30, -50, 40],\n",
    "            bar_names=[\"one\", \"two\", \"three\", \"four\", \"five\"],\n",
    "            y_range=[-20, 100, 10],\n",
    "            y_length=6,\n",
    "            x_length=10,\n",
    "            x_axis_config={\"font_size\": 36},\n",
    "        ).scale(0.5)\n",
    "\n",
    "        c_bar_lbls = chart.get_bar_labels(font_size=48)\n",
    "\n",
    "        self.add(chart, c_bar_lbls)\n",
    "\n",
    "\n",
    "\n",
    "# don't remove below command for run button to work\n",
    "%manim -qm -v WARNING BarChartExample0"
   ]
  },
  {
   "cell_type": "code",
   "execution_count": 4,
   "id": "496eb2e3-608b-4578-bb2a-2aa7638606e3",
   "metadata": {},
   "outputs": [],
   "source": [
    "# Adding bar_width"
   ]
  },
  {
   "cell_type": "code",
   "execution_count": 5,
   "id": "e9bcf136-f155-45fa-858a-fed88305082c",
   "metadata": {},
   "outputs": [
    {
     "ename": "NameError",
     "evalue": "name 'Scene' is not defined",
     "output_type": "error",
     "traceback": [
      "\u001b[0;31m---------------------------------------------------------------------------\u001b[0m",
      "\u001b[0;31mNameError\u001b[0m                                 Traceback (most recent call last)",
      "Cell \u001b[0;32mIn[5], line 1\u001b[0m\n\u001b[0;32m----> 1\u001b[0m \u001b[38;5;28;01mclass\u001b[39;00m \u001b[38;5;21;01mBarChartExample1\u001b[39;00m(\u001b[43mScene\u001b[49m):\n\u001b[1;32m      2\u001b[0m     \u001b[38;5;28;01mdef\u001b[39;00m \u001b[38;5;21mconstruct\u001b[39m(\u001b[38;5;28mself\u001b[39m):\n\u001b[1;32m      3\u001b[0m         chart \u001b[38;5;241m=\u001b[39m BarChart(\n\u001b[1;32m      4\u001b[0m             bar_width\u001b[38;5;241m=\u001b[39m\u001b[38;5;241m1.0\u001b[39m,\n\u001b[1;32m      5\u001b[0m             values\u001b[38;5;241m=\u001b[39m[\u001b[38;5;241m100\u001b[39m, \u001b[38;5;241m40\u001b[39m, \u001b[38;5;241m30\u001b[39m, \u001b[38;5;241m20\u001b[39m, \u001b[38;5;241m40\u001b[39m],\n\u001b[0;32m   (...)\u001b[0m\n\u001b[1;32m     10\u001b[0m             x_axis_config\u001b[38;5;241m=\u001b[39m{\u001b[38;5;124m\"\u001b[39m\u001b[38;5;124mfont_size\u001b[39m\u001b[38;5;124m\"\u001b[39m: \u001b[38;5;241m36\u001b[39m},\n\u001b[1;32m     11\u001b[0m         )\n",
      "\u001b[0;31mNameError\u001b[0m: name 'Scene' is not defined"
     ]
    }
   ],
   "source": [
    "class BarChartExample1(Scene):\n",
    "    def construct(self):\n",
    "        chart = BarChart(\n",
    "            bar_width=1.0,\n",
    "            values=[100, 40, 30, 20, 40],\n",
    "            bar_names=[\"one\", \"two\", \"three\", \"four\", \"five\"],\n",
    "            y_range=[-20, 100, 10],\n",
    "            y_length=6,\n",
    "            x_length=10,\n",
    "            x_axis_config={\"font_size\": 36},\n",
    "        )\n",
    "\n",
    "        c_bar_lbls = chart.get_bar_labels(font_size=48)\n",
    "\n",
    "        self.add(chart, c_bar_lbls)\n",
    "\n",
    "\n",
    "\n",
    "# don't remove below command for run button to work\n",
    "%manim -qm -v WARNING BarChartExample1"
   ]
  },
  {
   "cell_type": "code",
   "execution_count": 6,
   "id": "150d0d2b-817e-4de2-bddc-d1e31219934c",
   "metadata": {},
   "outputs": [
    {
     "ename": "NameError",
     "evalue": "name 'Scene' is not defined",
     "output_type": "error",
     "traceback": [
      "\u001b[0;31m---------------------------------------------------------------------------\u001b[0m",
      "\u001b[0;31mNameError\u001b[0m                                 Traceback (most recent call last)",
      "Cell \u001b[0;32mIn[6], line 1\u001b[0m\n\u001b[0;32m----> 1\u001b[0m \u001b[38;5;28;01mclass\u001b[39;00m \u001b[38;5;21;01mBarChartExample2\u001b[39;00m(\u001b[43mScene\u001b[49m):\n\u001b[1;32m      2\u001b[0m     \u001b[38;5;28;01mdef\u001b[39;00m \u001b[38;5;21mconstruct\u001b[39m(\u001b[38;5;28mself\u001b[39m):\n\u001b[1;32m      3\u001b[0m         chart \u001b[38;5;241m=\u001b[39m BarChart(\n\u001b[1;32m      4\u001b[0m             bar_width\u001b[38;5;241m=\u001b[39m\u001b[38;5;241m1.0\u001b[39m,\n\u001b[1;32m      5\u001b[0m             bar_colors\u001b[38;5;241m=\u001b[39m[\u001b[38;5;124m\"\u001b[39m\u001b[38;5;124m#FF0000\u001b[39m\u001b[38;5;124m\"\u001b[39m,\u001b[38;5;124m\"\u001b[39m\u001b[38;5;124m#0000FF\u001b[39m\u001b[38;5;124m\"\u001b[39m],\n\u001b[0;32m   (...)\u001b[0m\n\u001b[1;32m     11\u001b[0m             x_axis_config\u001b[38;5;241m=\u001b[39m{\u001b[38;5;124m\"\u001b[39m\u001b[38;5;124mfont_size\u001b[39m\u001b[38;5;124m\"\u001b[39m: \u001b[38;5;241m36\u001b[39m},\n\u001b[1;32m     12\u001b[0m         )\n",
      "\u001b[0;31mNameError\u001b[0m: name 'Scene' is not defined"
     ]
    }
   ],
   "source": [
    "class BarChartExample2(Scene):\n",
    "    def construct(self):\n",
    "        chart = BarChart(\n",
    "            bar_width=1.0,\n",
    "            bar_colors=[\"#FF0000\",\"#0000FF\"],\n",
    "            values=[100, 40, 30, 20, 40],\n",
    "            bar_names=[\"one\", \"two\", \"three\", \"four\", \"five\"],\n",
    "            y_range=[-20, 100, 10],\n",
    "            y_length=6,\n",
    "            x_length=10,\n",
    "            x_axis_config={\"font_size\": 36},\n",
    "        )\n",
    "\n",
    "        c_bar_lbls = chart.get_bar_labels(font_size=48)\n",
    "\n",
    "        self.add(chart, c_bar_lbls)\n",
    "\n",
    "\n",
    "\n",
    "# don't remove below command for run button to work\n",
    "%manim -qm -v WARNING BarChartExample2"
   ]
  },
  {
   "cell_type": "code",
   "execution_count": 7,
   "id": "554afba1-e87d-48f3-8b19-089a52cf38f9",
   "metadata": {},
   "outputs": [
    {
     "ename": "NameError",
     "evalue": "name 'Scene' is not defined",
     "output_type": "error",
     "traceback": [
      "\u001b[0;31m---------------------------------------------------------------------------\u001b[0m",
      "\u001b[0;31mNameError\u001b[0m                                 Traceback (most recent call last)",
      "Cell \u001b[0;32mIn[7], line 1\u001b[0m\n\u001b[0;32m----> 1\u001b[0m \u001b[38;5;28;01mclass\u001b[39;00m \u001b[38;5;21;01mBarChartExample3\u001b[39;00m(\u001b[43mScene\u001b[49m):\n\u001b[1;32m      2\u001b[0m     \u001b[38;5;28;01mdef\u001b[39;00m \u001b[38;5;21mconstruct\u001b[39m(\u001b[38;5;28mself\u001b[39m):\n\u001b[1;32m      3\u001b[0m         chart \u001b[38;5;241m=\u001b[39m BarChart(\n\u001b[1;32m      4\u001b[0m             bar_width\u001b[38;5;241m=\u001b[39m\u001b[38;5;241m1.0\u001b[39m,\n\u001b[1;32m      5\u001b[0m             bar_colors\u001b[38;5;241m=\u001b[39m[\u001b[38;5;124m\"\u001b[39m\u001b[38;5;124m#FF0000\u001b[39m\u001b[38;5;124m\"\u001b[39m,\u001b[38;5;124m\"\u001b[39m\u001b[38;5;124m#CCCC00\u001b[39m\u001b[38;5;124m\"\u001b[39m,\u001b[38;5;124m\"\u001b[39m\u001b[38;5;124m#0000FF\u001b[39m\u001b[38;5;124m\"\u001b[39m],\n\u001b[0;32m   (...)\u001b[0m\n\u001b[1;32m     11\u001b[0m             x_axis_config\u001b[38;5;241m=\u001b[39m{\u001b[38;5;124m\"\u001b[39m\u001b[38;5;124mfont_size\u001b[39m\u001b[38;5;124m\"\u001b[39m: \u001b[38;5;241m36\u001b[39m},\n\u001b[1;32m     12\u001b[0m         )\n",
      "\u001b[0;31mNameError\u001b[0m: name 'Scene' is not defined"
     ]
    }
   ],
   "source": [
    "class BarChartExample3(Scene):\n",
    "    def construct(self):\n",
    "        chart = BarChart(\n",
    "            bar_width=1.0,\n",
    "            bar_colors=[\"#FF0000\",\"#CCCC00\",\"#0000FF\"],\n",
    "            values=[100, 40, 30, 20, 40],\n",
    "            bar_names=[\"one\", \"two\", \"three\", \"four\", \"five\"],\n",
    "            y_range=[-20, 100, 10],\n",
    "            y_length=6,\n",
    "            x_length=10,\n",
    "            x_axis_config={\"font_size\": 36},\n",
    "        )\n",
    "\n",
    "        c_bar_lbls = chart.get_bar_labels(font_size=48)\n",
    "\n",
    "        self.add(chart, c_bar_lbls)\n",
    "\n",
    "\n",
    "\n",
    "# don't remove below command for run button to work\n",
    "%manim -qm -v WARNING BarChartExample3"
   ]
  },
  {
   "cell_type": "code",
   "execution_count": 8,
   "id": "d6b3c34e-d8ac-4894-a2cc-af051c72bf08",
   "metadata": {},
   "outputs": [
    {
     "ename": "NameError",
     "evalue": "name 'pandas' is not defined",
     "output_type": "error",
     "traceback": [
      "\u001b[0;31m---------------------------------------------------------------------------\u001b[0m",
      "\u001b[0;31mNameError\u001b[0m                                 Traceback (most recent call last)",
      "Cell \u001b[0;32mIn[8], line 1\u001b[0m\n\u001b[0;32m----> 1\u001b[0m histogram_direct \u001b[38;5;241m=\u001b[39m \u001b[43mpandas\u001b[49m\u001b[38;5;241m.\u001b[39mread_csv(\u001b[38;5;124m'\u001b[39m\u001b[38;5;124mhistogram_direct.csv\u001b[39m\u001b[38;5;124m'\u001b[39m)\n\u001b[1;32m      2\u001b[0m \u001b[38;5;28mprint\u001b[39m(histogram_direct)\n",
      "\u001b[0;31mNameError\u001b[0m: name 'pandas' is not defined"
     ]
    }
   ],
   "source": [
    "histogram_direct = pandas.read_csv('histogram_direct.csv')\n",
    "print(histogram_direct)"
   ]
  },
  {
   "cell_type": "code",
   "execution_count": 9,
   "id": "a9f5695d-7f19-4410-a167-f60c4fb15628",
   "metadata": {},
   "outputs": [
    {
     "ename": "NameError",
     "evalue": "name 'Scene' is not defined",
     "output_type": "error",
     "traceback": [
      "\u001b[0;31m---------------------------------------------------------------------------\u001b[0m",
      "\u001b[0;31mNameError\u001b[0m                                 Traceback (most recent call last)",
      "Cell \u001b[0;32mIn[9], line 1\u001b[0m\n\u001b[0;32m----> 1\u001b[0m \u001b[38;5;28;01mclass\u001b[39;00m \u001b[38;5;21;01mBarChartExample4\u001b[39;00m(\u001b[43mScene\u001b[49m):\n\u001b[1;32m      2\u001b[0m     \u001b[38;5;28;01mdef\u001b[39;00m \u001b[38;5;21mconstruct\u001b[39m(\u001b[38;5;28mself\u001b[39m):\n\u001b[1;32m      3\u001b[0m         chart \u001b[38;5;241m=\u001b[39m BarChart(\n\u001b[1;32m      4\u001b[0m             bar_width\u001b[38;5;241m=\u001b[39m\u001b[38;5;241m1.0\u001b[39m,\n\u001b[1;32m      5\u001b[0m             bar_colors\u001b[38;5;241m=\u001b[39mhistogram_direct\u001b[38;5;241m.\u001b[39mcols,\n\u001b[0;32m   (...)\u001b[0m\n\u001b[1;32m     11\u001b[0m             x_axis_config\u001b[38;5;241m=\u001b[39m{\u001b[38;5;124m\"\u001b[39m\u001b[38;5;124mfont_size\u001b[39m\u001b[38;5;124m\"\u001b[39m: \u001b[38;5;241m36\u001b[39m},\n\u001b[1;32m     12\u001b[0m         )\n",
      "\u001b[0;31mNameError\u001b[0m: name 'Scene' is not defined"
     ]
    }
   ],
   "source": [
    "class BarChartExample4(Scene):\n",
    "    def construct(self):\n",
    "        chart = BarChart(\n",
    "            bar_width=1.0,\n",
    "            bar_colors=histogram_direct.cols,\n",
    "            values=histogram_direct.y,\n",
    "            bar_names=histogram_direct.labs,\n",
    "            y_range=[0, 100, 10],\n",
    "            y_length=6,\n",
    "            x_length=10,\n",
    "            x_axis_config={\"font_size\": 36},\n",
    "        )\n",
    "\n",
    "        c_bar_lbls = chart.get_bar_labels(font_size=48)\n",
    "\n",
    "        self.add(chart, c_bar_lbls)\n",
    "\n",
    "\n",
    "\n",
    "# don't remove below command for run button to work\n",
    "%manim -qm -v WARNING BarChartExample4"
   ]
  },
  {
   "cell_type": "code",
   "execution_count": 10,
   "id": "af29ae4c-72a1-4198-a71e-b61e82edfbf2",
   "metadata": {},
   "outputs": [
    {
     "ename": "NameError",
     "evalue": "name 'np' is not defined",
     "output_type": "error",
     "traceback": [
      "\u001b[0;31m---------------------------------------------------------------------------\u001b[0m",
      "\u001b[0;31mNameError\u001b[0m                                 Traceback (most recent call last)",
      "Cell \u001b[0;32mIn[10], line 1\u001b[0m\n\u001b[0;32m----> 1\u001b[0m \u001b[43mnp\u001b[49m\u001b[38;5;241m.\u001b[39mmax(histogram_direct\u001b[38;5;241m.\u001b[39my)\n",
      "\u001b[0;31mNameError\u001b[0m: name 'np' is not defined"
     ]
    }
   ],
   "source": [
    "np.max(histogram_direct.y)"
   ]
  },
  {
   "cell_type": "code",
   "execution_count": 11,
   "id": "6ecc64ad-b8cc-4e53-b8c6-2bbf266acec4",
   "metadata": {},
   "outputs": [
    {
     "ename": "NameError",
     "evalue": "name 'Scene' is not defined",
     "output_type": "error",
     "traceback": [
      "\u001b[0;31m---------------------------------------------------------------------------\u001b[0m",
      "\u001b[0;31mNameError\u001b[0m                                 Traceback (most recent call last)",
      "Cell \u001b[0;32mIn[11], line 1\u001b[0m\n\u001b[0;32m----> 1\u001b[0m \u001b[38;5;28;01mclass\u001b[39;00m \u001b[38;5;21;01mBarChartExample4\u001b[39;00m(\u001b[43mScene\u001b[49m):\n\u001b[1;32m      2\u001b[0m     \u001b[38;5;28;01mdef\u001b[39;00m \u001b[38;5;21mconstruct\u001b[39m(\u001b[38;5;28mself\u001b[39m):\n\u001b[1;32m      3\u001b[0m         chart \u001b[38;5;241m=\u001b[39m BarChart(\n\u001b[1;32m      4\u001b[0m             bar_width\u001b[38;5;241m=\u001b[39m\u001b[38;5;241m1.0\u001b[39m,\n\u001b[1;32m      5\u001b[0m             bar_colors\u001b[38;5;241m=\u001b[39mhistogram_direct\u001b[38;5;241m.\u001b[39mcols,\n\u001b[0;32m   (...)\u001b[0m\n\u001b[1;32m     11\u001b[0m             x_axis_config\u001b[38;5;241m=\u001b[39m{\u001b[38;5;124m\"\u001b[39m\u001b[38;5;124mfont_size\u001b[39m\u001b[38;5;124m\"\u001b[39m: \u001b[38;5;241m36\u001b[39m},\n\u001b[1;32m     12\u001b[0m         )\n",
      "\u001b[0;31mNameError\u001b[0m: name 'Scene' is not defined"
     ]
    }
   ],
   "source": [
    "class BarChartExample4(Scene):\n",
    "    def construct(self):\n",
    "        chart = BarChart(\n",
    "            bar_width=1.0,\n",
    "            bar_colors=histogram_direct.cols,\n",
    "            values=histogram_direct.y,\n",
    "            bar_names=histogram_direct.labs,\n",
    "            y_range=[0, np.max(histogram_direct.y), 0.1],\n",
    "            y_length=6,\n",
    "            x_length=10,\n",
    "            x_axis_config={\"font_size\": 36},\n",
    "        )\n",
    "\n",
    "        c_bar_lbls = chart.get_bar_labels(font_size=48)\n",
    "\n",
    "        self.add(chart, c_bar_lbls)\n",
    "\n",
    "\n",
    "\n",
    "# don't remove below command for run button to work\n",
    "%manim -qm -v WARNING BarChartExample4"
   ]
  },
  {
   "cell_type": "code",
   "execution_count": null,
   "id": "f2ee4e92-c7af-40e5-9b7d-6523d712af07",
   "metadata": {},
   "outputs": [],
   "source": []
  },
  {
   "cell_type": "code",
   "execution_count": 12,
   "id": "779b1481-c1b4-4fcc-b997-c964915c8517",
   "metadata": {},
   "outputs": [
    {
     "ename": "NameError",
     "evalue": "name 'np' is not defined",
     "output_type": "error",
     "traceback": [
      "\u001b[0;31m---------------------------------------------------------------------------\u001b[0m",
      "\u001b[0;31mNameError\u001b[0m                                 Traceback (most recent call last)",
      "Cell \u001b[0;32mIn[12], line 1\u001b[0m\n\u001b[0;32m----> 1\u001b[0m \u001b[43mnp\u001b[49m\u001b[38;5;241m.\u001b[39mround(histogram_direct\u001b[38;5;241m.\u001b[39my, decimals\u001b[38;5;241m=\u001b[39m\u001b[38;5;241m2\u001b[39m)\n",
      "\u001b[0;31mNameError\u001b[0m: name 'np' is not defined"
     ]
    }
   ],
   "source": [
    "np.round(histogram_direct.y, decimals=2)"
   ]
  },
  {
   "cell_type": "code",
   "execution_count": 13,
   "id": "01f57023-ed33-42c5-8a85-197ce1405420",
   "metadata": {},
   "outputs": [
    {
     "ename": "NameError",
     "evalue": "name 'Scene' is not defined",
     "output_type": "error",
     "traceback": [
      "\u001b[0;31m---------------------------------------------------------------------------\u001b[0m",
      "\u001b[0;31mNameError\u001b[0m                                 Traceback (most recent call last)",
      "Cell \u001b[0;32mIn[13], line 1\u001b[0m\n\u001b[0;32m----> 1\u001b[0m \u001b[38;5;28;01mclass\u001b[39;00m \u001b[38;5;21;01mBarChartExample4\u001b[39;00m(\u001b[43mScene\u001b[49m):\n\u001b[1;32m      2\u001b[0m     \u001b[38;5;28;01mdef\u001b[39;00m \u001b[38;5;21mconstruct\u001b[39m(\u001b[38;5;28mself\u001b[39m):\n\u001b[1;32m      3\u001b[0m         chart \u001b[38;5;241m=\u001b[39m BarChart(\n\u001b[1;32m      4\u001b[0m             bar_width\u001b[38;5;241m=\u001b[39m\u001b[38;5;241m1.0\u001b[39m,\n\u001b[1;32m      5\u001b[0m             bar_colors\u001b[38;5;241m=\u001b[39mhistogram_direct\u001b[38;5;241m.\u001b[39mcols,\n\u001b[0;32m   (...)\u001b[0m\n\u001b[1;32m     11\u001b[0m             x_axis_config\u001b[38;5;241m=\u001b[39m{\u001b[38;5;124m\"\u001b[39m\u001b[38;5;124mfont_size\u001b[39m\u001b[38;5;124m\"\u001b[39m: \u001b[38;5;241m36\u001b[39m},\n\u001b[1;32m     12\u001b[0m         )\n",
      "\u001b[0;31mNameError\u001b[0m: name 'Scene' is not defined"
     ]
    }
   ],
   "source": [
    "class BarChartExample4(Scene):\n",
    "    def construct(self):\n",
    "        chart = BarChart(\n",
    "            bar_width=1.0,\n",
    "            bar_colors=histogram_direct.cols,\n",
    "            values=np.round(histogram_direct.y, decimals = 2),\n",
    "            bar_names=histogram_direct.labs,\n",
    "            y_range=[0, np.max(histogram_direct.y), 0.1],\n",
    "            y_length=6,\n",
    "            x_length=10,\n",
    "            x_axis_config={\"font_size\": 36},\n",
    "        )\n",
    "\n",
    "        c_bar_lbls = chart.get_bar_labels(font_size=48)\n",
    "\n",
    "        self.add(chart, c_bar_lbls)\n",
    "\n",
    "\n",
    "\n",
    "# don't remove below command for run button to work\n",
    "%manim -qm -v WARNING BarChartExample4"
   ]
  },
  {
   "cell_type": "code",
   "execution_count": 14,
   "id": "0cd6fdb6-34f4-456c-b1a4-d68497fb5241",
   "metadata": {},
   "outputs": [
    {
     "ename": "NameError",
     "evalue": "name 'Scene' is not defined",
     "output_type": "error",
     "traceback": [
      "\u001b[0;31m---------------------------------------------------------------------------\u001b[0m",
      "\u001b[0;31mNameError\u001b[0m                                 Traceback (most recent call last)",
      "Cell \u001b[0;32mIn[14], line 1\u001b[0m\n\u001b[0;32m----> 1\u001b[0m \u001b[38;5;28;01mclass\u001b[39;00m \u001b[38;5;21;01mBarChartExample4\u001b[39;00m(\u001b[43mScene\u001b[49m):\n\u001b[1;32m      2\u001b[0m     \u001b[38;5;28;01mdef\u001b[39;00m \u001b[38;5;21mconstruct\u001b[39m(\u001b[38;5;28mself\u001b[39m):\n\u001b[1;32m      3\u001b[0m         chart \u001b[38;5;241m=\u001b[39m BarChart(\n\u001b[1;32m      4\u001b[0m             bar_width\u001b[38;5;241m=\u001b[39m\u001b[38;5;241m1.0\u001b[39m,\n\u001b[1;32m      5\u001b[0m             bar_colors\u001b[38;5;241m=\u001b[39mhistogram_direct\u001b[38;5;241m.\u001b[39mcols,\n\u001b[0;32m   (...)\u001b[0m\n\u001b[1;32m     11\u001b[0m             x_axis_config\u001b[38;5;241m=\u001b[39m{\u001b[38;5;124m\"\u001b[39m\u001b[38;5;124mfont_size\u001b[39m\u001b[38;5;124m\"\u001b[39m: \u001b[38;5;241m36\u001b[39m},\n\u001b[1;32m     12\u001b[0m         )\n",
      "\u001b[0;31mNameError\u001b[0m: name 'Scene' is not defined"
     ]
    }
   ],
   "source": [
    "class BarChartExample4(Scene):\n",
    "    def construct(self):\n",
    "        chart = BarChart(\n",
    "            bar_width=1.0,\n",
    "            bar_colors=histogram_direct.cols,\n",
    "            values=np.round(histogram_direct.y, decimals = 2),\n",
    "            bar_names=histogram_direct.labs,\n",
    "            y_range=[0, np.max(histogram_direct.y), 0.1],\n",
    "            y_length=6,\n",
    "            x_length=10,\n",
    "            x_axis_config={\"font_size\": 36},\n",
    "        )\n",
    "\n",
    "        c_bar_lbls = chart.get_bar_labels(font_size=28)\n",
    "\n",
    "        self.add(chart, c_bar_lbls)\n",
    "\n",
    "\n",
    "\n",
    "# don't remove below command for run button to work\n",
    "%manim -qm -v WARNING BarChartExample4"
   ]
  },
  {
   "cell_type": "code",
   "execution_count": 15,
   "id": "a8365938-ce90-4cf9-b575-3b511836527c",
   "metadata": {},
   "outputs": [
    {
     "ename": "NameError",
     "evalue": "name 'pandas' is not defined",
     "output_type": "error",
     "traceback": [
      "\u001b[0;31m---------------------------------------------------------------------------\u001b[0m",
      "\u001b[0;31mNameError\u001b[0m                                 Traceback (most recent call last)",
      "Cell \u001b[0;32mIn[15], line 1\u001b[0m\n\u001b[0;32m----> 1\u001b[0m raw_data \u001b[38;5;241m=\u001b[39m \u001b[43mpandas\u001b[49m\u001b[38;5;241m.\u001b[39mread_csv(\u001b[38;5;124m'\u001b[39m\u001b[38;5;124mraw_data.csv\u001b[39m\u001b[38;5;124m'\u001b[39m)\n\u001b[1;32m      2\u001b[0m \u001b[38;5;28mprint\u001b[39m(raw_data)\n\u001b[1;32m      3\u001b[0m raw_data\u001b[38;5;241m.\u001b[39mhead()\n",
      "\u001b[0;31mNameError\u001b[0m: name 'pandas' is not defined"
     ]
    }
   ],
   "source": [
    "raw_data = pandas.read_csv('raw_data.csv')\n",
    "print(raw_data)\n",
    "raw_data.head()"
   ]
  },
  {
   "cell_type": "code",
   "execution_count": 16,
   "id": "1431a23d-9e91-4f26-b6a5-5aa7a24ebc4f",
   "metadata": {},
   "outputs": [
    {
     "ename": "NameError",
     "evalue": "name 'pandas' is not defined",
     "output_type": "error",
     "traceback": [
      "\u001b[0;31m---------------------------------------------------------------------------\u001b[0m",
      "\u001b[0;31mNameError\u001b[0m                                 Traceback (most recent call last)",
      "Cell \u001b[0;32mIn[16], line 1\u001b[0m\n\u001b[0;32m----> 1\u001b[0m raw_data[\u001b[38;5;124m'\u001b[39m\u001b[38;5;124mx_bin_python\u001b[39m\u001b[38;5;124m'\u001b[39m] \u001b[38;5;241m=\u001b[39m \u001b[43mpandas\u001b[49m\u001b[38;5;241m.\u001b[39mcut(raw_data[\u001b[38;5;124m'\u001b[39m\u001b[38;5;124mx\u001b[39m\u001b[38;5;124m'\u001b[39m], bins\u001b[38;5;241m=\u001b[39m\u001b[38;5;241m10\u001b[39m)\n\u001b[1;32m      2\u001b[0m raw_data\u001b[38;5;241m.\u001b[39mhead()\n",
      "\u001b[0;31mNameError\u001b[0m: name 'pandas' is not defined"
     ]
    }
   ],
   "source": [
    "raw_data['x_bin_python'] = pandas.cut(raw_data['x'], bins=10)\n",
    "raw_data.head()"
   ]
  },
  {
   "cell_type": "code",
   "execution_count": 17,
   "id": "6701a147-a33c-4482-8d81-e374c225ec6c",
   "metadata": {},
   "outputs": [
    {
     "ename": "NameError",
     "evalue": "name 'np' is not defined",
     "output_type": "error",
     "traceback": [
      "\u001b[0;31m---------------------------------------------------------------------------\u001b[0m",
      "\u001b[0;31mNameError\u001b[0m                                 Traceback (most recent call last)",
      "Cell \u001b[0;32mIn[17], line 1\u001b[0m\n\u001b[0;32m----> 1\u001b[0m unique, counts \u001b[38;5;241m=\u001b[39m \u001b[43mnp\u001b[49m\u001b[38;5;241m.\u001b[39munique(raw_data\u001b[38;5;241m.\u001b[39mx_bin_python, return_counts\u001b[38;5;241m=\u001b[39m\u001b[38;5;28;01mTrue\u001b[39;00m)\n\u001b[1;32m      2\u001b[0m \u001b[38;5;28mprint\u001b[39m(unique)\n\u001b[1;32m      3\u001b[0m \u001b[38;5;28mprint\u001b[39m(counts)\n",
      "\u001b[0;31mNameError\u001b[0m: name 'np' is not defined"
     ]
    }
   ],
   "source": [
    "unique, counts = np.unique(raw_data.x_bin_python, return_counts=True)\n",
    "print(unique)\n",
    "print(counts)"
   ]
  },
  {
   "cell_type": "code",
   "execution_count": 18,
   "id": "dd7893b1-de2e-4c15-92f7-1b3d46c91a39",
   "metadata": {},
   "outputs": [
    {
     "ename": "NameError",
     "evalue": "name 'raw_data' is not defined",
     "output_type": "error",
     "traceback": [
      "\u001b[0;31m---------------------------------------------------------------------------\u001b[0m",
      "\u001b[0;31mNameError\u001b[0m                                 Traceback (most recent call last)",
      "Cell \u001b[0;32mIn[18], line 1\u001b[0m\n\u001b[0;32m----> 1\u001b[0m \u001b[38;5;28mlen\u001b[39m(\u001b[43mraw_data\u001b[49m\u001b[38;5;241m.\u001b[39mx_bin_python)\n",
      "\u001b[0;31mNameError\u001b[0m: name 'raw_data' is not defined"
     ]
    }
   ],
   "source": [
    "len(raw_data.x_bin_python)"
   ]
  },
  {
   "cell_type": "code",
   "execution_count": 19,
   "id": "f4daffcf-0ca8-4573-bb62-70a31d753e15",
   "metadata": {},
   "outputs": [
    {
     "ename": "NameError",
     "evalue": "name 'unique' is not defined",
     "output_type": "error",
     "traceback": [
      "\u001b[0;31m---------------------------------------------------------------------------\u001b[0m",
      "\u001b[0;31mNameError\u001b[0m                                 Traceback (most recent call last)",
      "Cell \u001b[0;32mIn[19], line 3\u001b[0m\n\u001b[1;32m      1\u001b[0m midpoints \u001b[38;5;241m=\u001b[39m []\n\u001b[0;32m----> 3\u001b[0m \u001b[38;5;28;01mfor\u001b[39;00m k \u001b[38;5;129;01min\u001b[39;00m \u001b[38;5;28mrange\u001b[39m(\u001b[38;5;28mlen\u001b[39m(\u001b[43munique\u001b[49m)):\n\u001b[1;32m      4\u001b[0m     midpoints\u001b[38;5;241m.\u001b[39mappend(np\u001b[38;5;241m.\u001b[39mround((unique[k]\u001b[38;5;241m.\u001b[39mleft \u001b[38;5;241m+\u001b[39m unique[k]\u001b[38;5;241m.\u001b[39mright)\u001b[38;5;241m/\u001b[39m\u001b[38;5;241m2\u001b[39m, decimals\u001b[38;5;241m=\u001b[39m\u001b[38;5;241m2\u001b[39m))\n\u001b[1;32m      6\u001b[0m \u001b[38;5;28mprint\u001b[39m(midpoints)\n",
      "\u001b[0;31mNameError\u001b[0m: name 'unique' is not defined"
     ]
    }
   ],
   "source": [
    "midpoints = []\n",
    "\n",
    "for k in range(len(unique)):\n",
    "    midpoints.append(np.round((unique[k].left + unique[k].right)/2, decimals=2))\n",
    "    \n",
    "print(midpoints)"
   ]
  },
  {
   "cell_type": "code",
   "execution_count": 20,
   "id": "9cc097f8-f78c-4515-875f-a525270908e0",
   "metadata": {},
   "outputs": [
    {
     "ename": "NameError",
     "evalue": "name 'Scene' is not defined",
     "output_type": "error",
     "traceback": [
      "\u001b[0;31m---------------------------------------------------------------------------\u001b[0m",
      "\u001b[0;31mNameError\u001b[0m                                 Traceback (most recent call last)",
      "Cell \u001b[0;32mIn[20], line 1\u001b[0m\n\u001b[0;32m----> 1\u001b[0m \u001b[38;5;28;01mclass\u001b[39;00m \u001b[38;5;21;01mBarChartExample4\u001b[39;00m(\u001b[43mScene\u001b[49m):\n\u001b[1;32m      2\u001b[0m     \u001b[38;5;28;01mdef\u001b[39;00m \u001b[38;5;21mconstruct\u001b[39m(\u001b[38;5;28mself\u001b[39m):\n\u001b[1;32m      3\u001b[0m         chart \u001b[38;5;241m=\u001b[39m BarChart(\n\u001b[1;32m      4\u001b[0m             bar_width\u001b[38;5;241m=\u001b[39m\u001b[38;5;241m1.0\u001b[39m,\n\u001b[1;32m      5\u001b[0m             \u001b[38;5;66;03m#bar_colors=DEFAULT,\u001b[39;00m\n\u001b[0;32m   (...)\u001b[0m\n\u001b[1;32m     11\u001b[0m             x_axis_config\u001b[38;5;241m=\u001b[39m{\u001b[38;5;124m\"\u001b[39m\u001b[38;5;124mfont_size\u001b[39m\u001b[38;5;124m\"\u001b[39m: \u001b[38;5;241m36\u001b[39m},\n\u001b[1;32m     12\u001b[0m         )\n",
      "\u001b[0;31mNameError\u001b[0m: name 'Scene' is not defined"
     ]
    }
   ],
   "source": [
    "class BarChartExample4(Scene):\n",
    "    def construct(self):\n",
    "        chart = BarChart(\n",
    "            bar_width=1.0,\n",
    "            #bar_colors=DEFAULT,\n",
    "            values=counts,\n",
    "            #bar_names=DEFAULT,\n",
    "            y_range=[0, np.max(counts), len(raw_data.x)/20],\n",
    "            y_length=6,\n",
    "            x_length=10,\n",
    "            x_axis_config={\"font_size\": 36},\n",
    "        )\n",
    "\n",
    "        c_bar_lbls = chart.get_bar_labels(font_size=28)\n",
    "\n",
    "        self.add(chart, c_bar_lbls)\n",
    "\n",
    "\n",
    "\n",
    "# don't remove below command for run button to work\n",
    "%manim -qm -v WARNING BarChartExample4"
   ]
  },
  {
   "cell_type": "code",
   "execution_count": 22,
   "id": "8c52344a-31c5-41f7-943b-f92b56ee142f",
   "metadata": {},
   "outputs": [
    {
     "name": "stdout",
     "output_type": "stream",
     "text": [
      "[-3.14, -2.46, -1.77, -1.08, -0.4, 0.29, 0.97, 1.66, 2.34, 3.03]\n"
     ]
    }
   ],
   "source": [
    "midpoints = []\n",
    "\n",
    "for k in range(len(unique)):\n",
    "    midpoints.append(np.round((unique[k].left + unique[k].right)/2, decimals=2))\n",
    "    \n",
    "print(midpoints)"
   ]
  },
  {
   "cell_type": "code",
   "execution_count": 23,
   "id": "481049b6-f495-42a2-baaa-2e0d98e9d18e",
   "metadata": {},
   "outputs": [
    {
     "data": {
      "image/png": "[encoded data removed]",
      "text/plain": [
       "<IPython.core.display.Image object>"
      ]
     },
     "metadata": {},
     "output_type": "display_data"
    }
   ],
   "source": [
    "class BarChartExample4(Scene):\n",
    "    def construct(self):\n",
    "        chart = BarChart(\n",
    "            bar_width=1.0,\n",
    "            #bar_colors=DEFAULT,\n",
    "            values=counts,\n",
    "            bar_names=midpoints,\n",
    "            y_range=[0, np.max(counts), len(raw_data.x)/20],\n",
    "            y_length=6,\n",
    "            x_length=10,\n",
    "            x_axis_config={\"font_size\": 36},\n",
    "        )\n",
    "\n",
    "        c_bar_lbls = chart.get_bar_labels(font_size=28)\n",
    "\n",
    "        self.add(chart, c_bar_lbls)\n",
    "\n",
    "\n",
    "\n",
    "# don't remove below command for run button to work\n",
    "%manim -qm -v WARNING BarChartExample4"
   ]
  },
  {
   "cell_type": "code",
   "execution_count": null,
   "id": "7bf38775-da00-4434-9cda-3bd889eab4e7",
   "metadata": {},
   "outputs": [],
   "source": []
  },
  {
   "cell_type": "code",
   "execution_count": 85,
   "id": "0a4644c4-f5c3-4d81-a431-8006abb1833b",
   "metadata": {},
   "outputs": [
    {
     "name": "stderr",
     "output_type": "stream",
     "text": [
      "                                                                                                         \r"
     ]
    },
    {
     "data": {
      "text/html": [
       "<video src=\"media/jupyter/BarChartAnimated@2025-01-31@14-59-12.mp4\" controls autoplay loop style=\"max-width: 60%;\"  >\n",
       "      Your browser does not support the <code>video</code> element.\n",
       "    </video>"
      ],
      "text/plain": [
       "<IPython.core.display.Video object>"
      ]
     },
     "metadata": {},
     "output_type": "display_data"
    }
   ],
   "source": [
    "\n",
    "\n",
    "start_counts = counts * 0\n",
    "final_counts = counts\n",
    "\n",
    "class BarChartAnimated(Scene):\n",
    "    def construct(self):\n",
    "        chart = BarChart(\n",
    "            bar_width=1.0,\n",
    "            #bar_colors=DEFAULT,\n",
    "            values=start_counts,\n",
    "            bar_names=midpoints,\n",
    "            y_range=[0, np.max(counts), len(raw_data.x)/20],\n",
    "            y_length=6,\n",
    "            x_length=10,\n",
    "            x_axis_config={\"font_size\": 36},\n",
    "        )\n",
    "\n",
    "        c_bar_lbls = chart.get_bar_labels(font_size=28)\n",
    "\n",
    "        #self.add(chart, c_bar_lbls)\n",
    "\n",
    "        self.play(Create(chart))\n",
    "        self.wait(2)\n",
    " \n",
    "        self.play(chart.animate.change_bar_values(final_counts), run_time=3)\n",
    "        self.play(Create(chart.get_bar_labels(font_size=36))) \n",
    " \n",
    "        self.wait(3)\n",
    "\n",
    "# don't remove below command for run button to work\n",
    "%manim -qm -v WARNING BarChartAnimated\n",
    "    \n",
    "\n",
    "\n"
   ]
  },
  {
   "cell_type": "code",
   "execution_count": null,
   "id": "e0b37fcf-ee16-4e42-b52f-f213c8278566",
   "metadata": {},
   "outputs": [],
   "source": []
  },
  {
   "cell_type": "code",
   "execution_count": null,
   "id": "27cc8c58-c513-4b36-aa8a-3499108a49cd",
   "metadata": {},
   "outputs": [],
   "source": []
  },
  {
   "cell_type": "code",
   "execution_count": 24,
   "id": "5e599ecd-d52e-456c-b43b-3b75d6abdd7a",
   "metadata": {},
   "outputs": [
    {
     "data": {
      "text/html": [
       "<div>\n",
       "<style scoped>\n",
       "    .dataframe tbody tr th:only-of-type {\n",
       "        vertical-align: middle;\n",
       "    }\n",
       "\n",
       "    .dataframe tbody tr th {\n",
       "        vertical-align: top;\n",
       "    }\n",
       "\n",
       "    .dataframe thead th {\n",
       "        text-align: right;\n",
       "    }\n",
       "</style>\n",
       "<table border=\"1\" class=\"dataframe\">\n",
       "  <thead>\n",
       "    <tr style=\"text-align: right;\">\n",
       "      <th></th>\n",
       "      <th>x</th>\n",
       "      <th>y</th>\n",
       "    </tr>\n",
       "  </thead>\n",
       "  <tbody>\n",
       "    <tr>\n",
       "      <th>0</th>\n",
       "      <td>-0.242743</td>\n",
       "      <td>-0.681276</td>\n",
       "    </tr>\n",
       "    <tr>\n",
       "      <th>1</th>\n",
       "      <td>-0.328456</td>\n",
       "      <td>-0.975801</td>\n",
       "    </tr>\n",
       "    <tr>\n",
       "      <th>2</th>\n",
       "      <td>1.804319</td>\n",
       "      <td>9.887372</td>\n",
       "    </tr>\n",
       "    <tr>\n",
       "      <th>3</th>\n",
       "      <td>-1.343278</td>\n",
       "      <td>-5.787550</td>\n",
       "    </tr>\n",
       "    <tr>\n",
       "      <th>4</th>\n",
       "      <td>-0.283067</td>\n",
       "      <td>-3.247218</td>\n",
       "    </tr>\n",
       "    <tr>\n",
       "      <th>...</th>\n",
       "      <td>...</td>\n",
       "      <td>...</td>\n",
       "    </tr>\n",
       "    <tr>\n",
       "      <th>95</th>\n",
       "      <td>0.505076</td>\n",
       "      <td>3.051195</td>\n",
       "    </tr>\n",
       "    <tr>\n",
       "      <th>96</th>\n",
       "      <td>-0.280172</td>\n",
       "      <td>-1.870970</td>\n",
       "    </tr>\n",
       "    <tr>\n",
       "      <th>97</th>\n",
       "      <td>-0.853350</td>\n",
       "      <td>-4.646395</td>\n",
       "    </tr>\n",
       "    <tr>\n",
       "      <th>98</th>\n",
       "      <td>0.780628</td>\n",
       "      <td>3.067231</td>\n",
       "    </tr>\n",
       "    <tr>\n",
       "      <th>99</th>\n",
       "      <td>0.866544</td>\n",
       "      <td>4.730500</td>\n",
       "    </tr>\n",
       "  </tbody>\n",
       "</table>\n",
       "<p>100 rows × 2 columns</p>\n",
       "</div>"
      ],
      "text/plain": [
       "           x         y\n",
       "0  -0.242743 -0.681276\n",
       "1  -0.328456 -0.975801\n",
       "2   1.804319  9.887372\n",
       "3  -1.343278 -5.787550\n",
       "4  -0.283067 -3.247218\n",
       "..       ...       ...\n",
       "95  0.505076  3.051195\n",
       "96 -0.280172 -1.870970\n",
       "97 -0.853350 -4.646395\n",
       "98  0.780628  3.067231\n",
       "99  0.866544  4.730500\n",
       "\n",
       "[100 rows x 2 columns]"
      ]
     },
     "execution_count": 24,
     "metadata": {},
     "output_type": "execute_result"
    }
   ],
   "source": [
    "raw_xy = pandas.read_csv('raw_xy.csv')\n",
    "raw_xy"
   ]
  },
  {
   "cell_type": "code",
   "execution_count": 25,
   "id": "bfadbede-c68c-4b9e-b23d-61cac80354bc",
   "metadata": {},
   "outputs": [
    {
     "data": {
      "image/png": "[encoded data removed]",
      "text/plain": [
       "<IPython.core.display.Image object>"
      ]
     },
     "metadata": {},
     "output_type": "display_data"
    }
   ],
   "source": [
    "# Modded from https://github.com/thomasnield/3mds/blob/main/20230814_scatterplots_in_manim.py\n",
    "\n",
    "\n",
    "\n",
    "class ScatterPlotScene(Scene):\n",
    "    def construct(self):\n",
    "\n",
    "\n",
    "        # Add the Axes\n",
    "        ax = Axes(x_range=[np.min(raw_xy.x), np.max(raw_xy.x), 1], \n",
    "                  y_range=[np.min(raw_xy.y), np.max(raw_xy.y), 1])\n",
    "        self.add(ax)\n",
    "\n",
    "        # Add the dots\n",
    "        for x, y in raw_xy.values:\n",
    "            dot = Dot(ax.c2p(x, y), color=BLUE)\n",
    "            self.add(dot)\n",
    "\n",
    "\n",
    "# don't remove below command for run button to work\n",
    "%manim -qm -v WARNING ScatterPlotScene"
   ]
  },
  {
   "cell_type": "code",
   "execution_count": 26,
   "id": "d01a5ff7-3abc-468b-887d-b10b33821ba0",
   "metadata": {},
   "outputs": [
    {
     "name": "stderr",
     "output_type": "stream",
     "text": [
      "                                                                                \r"
     ]
    },
    {
     "data": {
      "text/html": [
       "<video src=\"media/jupyter/ScatterPlotAnimatedScene@2025-01-31@13-05-46.mp4\" controls autoplay loop style=\"max-width: 60%;\"  >\n",
       "      Your browser does not support the <code>video</code> element.\n",
       "    </video>"
      ],
      "text/plain": [
       "<IPython.core.display.Video object>"
      ]
     },
     "metadata": {},
     "output_type": "display_data"
    }
   ],
   "source": [
    "class ScatterPlotAnimatedScene(Scene):\n",
    "    def construct(self):\n",
    "        \n",
    "        # Animate the creation of Axes\n",
    "        ax = Axes(x_range=[np.min(raw_xy.x), np.max(raw_xy.x), 1], \n",
    "                  y_range=[np.min(raw_xy.y), np.max(raw_xy.y), 1])\n",
    "        self.play(Write(ax))\n",
    "\n",
    "        self.wait()  # wait for 1 second\n",
    "\n",
    "        # Animate the creation of dots\n",
    "        dots = [Dot(ax.c2p(x, y), color=BLUE) for x, y in raw_xy.values]\n",
    "        \n",
    "        self.play(LaggedStart(*[Write(dot) for dot in dots], lag_ratio=.05))\n",
    "\n",
    "        self.wait()  # wait for 1 second\n",
    "\n",
    "\n",
    "# don't remove below command for run button to work\n",
    "%manim -qm -v WARNING ScatterPlotAnimatedScene"
   ]
  },
  {
   "cell_type": "code",
   "execution_count": 27,
   "id": "9af4f1d4-7ef7-40c3-aff1-1576b8e8f026",
   "metadata": {},
   "outputs": [
    {
     "data": {
      "text/html": [
       "<div>\n",
       "<style scoped>\n",
       "    .dataframe tbody tr th:only-of-type {\n",
       "        vertical-align: middle;\n",
       "    }\n",
       "\n",
       "    .dataframe tbody tr th {\n",
       "        vertical-align: top;\n",
       "    }\n",
       "\n",
       "    .dataframe thead th {\n",
       "        text-align: right;\n",
       "    }\n",
       "</style>\n",
       "<table border=\"1\" class=\"dataframe\">\n",
       "  <thead>\n",
       "    <tr style=\"text-align: right;\">\n",
       "      <th></th>\n",
       "      <th>x</th>\n",
       "      <th>y</th>\n",
       "    </tr>\n",
       "  </thead>\n",
       "  <tbody>\n",
       "    <tr>\n",
       "      <th>0</th>\n",
       "      <td>-3.483711</td>\n",
       "      <td>-18.136287</td>\n",
       "    </tr>\n",
       "    <tr>\n",
       "      <th>1</th>\n",
       "      <td>-3.395616</td>\n",
       "      <td>-17.218681</td>\n",
       "    </tr>\n",
       "    <tr>\n",
       "      <th>2</th>\n",
       "      <td>-2.706487</td>\n",
       "      <td>-13.950597</td>\n",
       "    </tr>\n",
       "    <tr>\n",
       "      <th>3</th>\n",
       "      <td>-2.019026</td>\n",
       "      <td>-11.425987</td>\n",
       "    </tr>\n",
       "    <tr>\n",
       "      <th>4</th>\n",
       "      <td>-1.736104</td>\n",
       "      <td>-7.795015</td>\n",
       "    </tr>\n",
       "    <tr>\n",
       "      <th>...</th>\n",
       "      <td>...</td>\n",
       "      <td>...</td>\n",
       "    </tr>\n",
       "    <tr>\n",
       "      <th>95</th>\n",
       "      <td>1.789583</td>\n",
       "      <td>8.255023</td>\n",
       "    </tr>\n",
       "    <tr>\n",
       "      <th>96</th>\n",
       "      <td>1.791331</td>\n",
       "      <td>9.672798</td>\n",
       "    </tr>\n",
       "    <tr>\n",
       "      <th>97</th>\n",
       "      <td>1.804319</td>\n",
       "      <td>9.887372</td>\n",
       "    </tr>\n",
       "    <tr>\n",
       "      <th>98</th>\n",
       "      <td>2.385206</td>\n",
       "      <td>11.572589</td>\n",
       "    </tr>\n",
       "    <tr>\n",
       "      <th>99</th>\n",
       "      <td>3.153677</td>\n",
       "      <td>16.691208</td>\n",
       "    </tr>\n",
       "  </tbody>\n",
       "</table>\n",
       "<p>100 rows × 2 columns</p>\n",
       "</div>"
      ],
      "text/plain": [
       "           x          y\n",
       "0  -3.483711 -18.136287\n",
       "1  -3.395616 -17.218681\n",
       "2  -2.706487 -13.950597\n",
       "3  -2.019026 -11.425987\n",
       "4  -1.736104  -7.795015\n",
       "..       ...        ...\n",
       "95  1.789583   8.255023\n",
       "96  1.791331   9.672798\n",
       "97  1.804319   9.887372\n",
       "98  2.385206  11.572589\n",
       "99  3.153677  16.691208\n",
       "\n",
       "[100 rows x 2 columns]"
      ]
     },
     "execution_count": 27,
     "metadata": {},
     "output_type": "execute_result"
    }
   ],
   "source": [
    "sorted_xy = pandas.read_csv('sorted_xy.csv')\n",
    "sorted_xy"
   ]
  },
  {
   "cell_type": "code",
   "execution_count": 28,
   "id": "dd81c5e7-ef1f-4265-841e-ccb598cddf87",
   "metadata": {},
   "outputs": [
    {
     "name": "stderr",
     "output_type": "stream",
     "text": [
      "                                                                                  \r"
     ]
    },
    {
     "data": {
      "text/html": [
       "<video src=\"media/jupyter/ScatterPlotAnimatedScene@2025-01-31@13-05-52.mp4\" controls autoplay loop style=\"max-width: 60%;\"  >\n",
       "      Your browser does not support the <code>video</code> element.\n",
       "    </video>"
      ],
      "text/plain": [
       "<IPython.core.display.Video object>"
      ]
     },
     "metadata": {},
     "output_type": "display_data"
    }
   ],
   "source": [
    "class ScatterPlotAnimatedScene(Scene):\n",
    "    def construct(self):\n",
    "        \n",
    "        # Animate the creation of Axes\n",
    "        ax = Axes(x_range=[np.min(sorted_xy.x), np.max(sorted_xy.x), 1], \n",
    "                  y_range=[np.min(sorted_xy.y), np.max(sorted_xy.y), 1])\n",
    "        self.play(Write(ax))\n",
    "\n",
    "        self.wait()  # wait for 1 second\n",
    "\n",
    "        # Animate the creation of dots\n",
    "        dots = [Dot(ax.c2p(x, y), color=BLUE) for x, y in raw_xy.values]\n",
    "        \n",
    "        self.play(LaggedStart(*[Write(dot) for dot in dots], lag_ratio=.05))\n",
    "\n",
    "        self.wait()  # wait for 1 second\n",
    "\n",
    "\n",
    "# don't remove below command for run button to work\n",
    "%manim -qm -v WARNING ScatterPlotAnimatedScene"
   ]
  },
  {
   "cell_type": "code",
   "execution_count": 29,
   "id": "d361918e-9ff0-4b3e-9bfa-816acdee3205",
   "metadata": {},
   "outputs": [
    {
     "name": "stderr",
     "output_type": "stream",
     "text": [
      "                                                                                        \r"
     ]
    },
    {
     "data": {
      "text/html": [
       "<video src=\"media/jupyter/Myscene@2025-01-31@13-05-53.mp4\" controls autoplay loop style=\"max-width: 60%;\"  >\n",
       "      Your browser does not support the <code>video</code> element.\n",
       "    </video>"
      ],
      "text/plain": [
       "<IPython.core.display.Video object>"
      ]
     },
     "metadata": {},
     "output_type": "display_data"
    }
   ],
   "source": [
    "\n",
    "# https://www.youtube.com/watch?v=n-VPhT17O68\n",
    "# https://www.nahalab.com/manim\n",
    "\n",
    "class Myscene(Scene):\n",
    "    def construct(self):\n",
    "        table = Table(\n",
    "        [[\"1,1\",\"1,2\",\"1,3\"],\n",
    "        [\"2,1\",\"2,2\",\"2,3\"],\n",
    "        [\"3,1\",\"3,2\",\"3,3\"]],\n",
    "        include_outer_lines = True,\n",
    "        row_labels=[MathTex(r\"\\frac{\\pi}{2}\"),Text(\"\"),Text(\"\")]\n",
    "        ).scale(0.6)\n",
    "\n",
    "        text = Text(\"(Row, Column)\").scale(0.5).next_to(table, UP*2)\n",
    "\n",
    "        \n",
    "        self.play(Write(table), Write(text))\n",
    "\n",
    "        self.wait(5)\n",
    "\n",
    "\n",
    "# don't remove below command for run button to work\n",
    "%manim -qm -v WARNING Myscene\n"
   ]
  },
  {
   "cell_type": "code",
   "execution_count": 30,
   "id": "06e294a6-7ed5-4c72-80bc-8639c437f502",
   "metadata": {},
   "outputs": [
    {
     "name": "stderr",
     "output_type": "stream",
     "text": [
      "                                                                                        \r"
     ]
    },
    {
     "data": {
      "text/html": [
       "<video src=\"media/jupyter/Myscene@2025-01-31@13-05-55.mp4\" controls autoplay loop style=\"max-width: 60%;\"  >\n",
       "      Your browser does not support the <code>video</code> element.\n",
       "    </video>"
      ],
      "text/plain": [
       "<IPython.core.display.Video object>"
      ]
     },
     "metadata": {},
     "output_type": "display_data"
    }
   ],
   "source": [
    "\n",
    "\n",
    "# https://www.youtube.com/watch?v=n-VPhT17O68\n",
    "# https://www.nahalab.com/manim\n",
    "\n",
    "class Myscene(Scene):\n",
    "    def construct(self):\n",
    "        table = Table(\n",
    "        [[\"1,1\",\"1,2\",\"1,3\"],\n",
    "        [\"2,1\",\"2,2\",\"2,3\"],\n",
    "        [\"3,1\",\"3,2\",\"3,3\"]],\n",
    "        include_outer_lines = True,\n",
    "        row_labels=[MathTex(r\"\\frac{\\pi}{2}\"),Text(\"\"),Text(\"\")]\n",
    "        ).scale(0.6)\n",
    "\n",
    "        text = Text(\"(Row, Column)\").scale(0.5).next_to(table, UP*2)\n",
    "\n",
    "        table.add_highlighted_cell((1,2), color=GREEN)\n",
    "        table.add_highlighted_cell((1,3), color=RED)\n",
    "        table.add_highlighted_cell((1,4), color=YELLOW)\n",
    "        \n",
    "        self.play(Write(table), Write(text))\n",
    "\n",
    "        self.wait(5)\n",
    "\n",
    "\n",
    "# don't remove below command for run button to work\n",
    "%manim -qm -v WARNING Myscene\n",
    "\n"
   ]
  },
  {
   "cell_type": "code",
   "execution_count": 54,
   "id": "00d7647b-cfdc-495e-8f18-ccefd5f18ff9",
   "metadata": {},
   "outputs": [
    {
     "name": "stderr",
     "output_type": "stream",
     "text": [
      "                                                                                        \r"
     ]
    },
    {
     "data": {
      "text/html": [
       "<video src=\"media/jupyter/Myscene@2025-01-31@13-26-16.mp4\" controls autoplay loop style=\"max-width: 60%;\"  >\n",
       "      Your browser does not support the <code>video</code> element.\n",
       "    </video>"
      ],
      "text/plain": [
       "<IPython.core.display.Video object>"
      ]
     },
     "metadata": {},
     "output_type": "display_data"
    }
   ],
   "source": [
    "\n",
    "# https://www.youtube.com/watch?v=n-VPhT17O68\n",
    "# https://www.nahalab.com/manim\n",
    "\n",
    "class Myscene(Scene):\n",
    "    def construct(self):\n",
    "        table = Table(\n",
    "        [[\"1,1\",\"1,2\",\"1,3\"],\n",
    "        [\"2,1\",\"2,2\",\"2,3\"],\n",
    "        [\"3,1\",\"3,2\",\"3,3\"]],\n",
    "        include_outer_lines = True,\n",
    "        row_labels=[MathTex(r\"\\frac{\\pi}{2}\"),Text(\"\"),Text(\"\")]\n",
    "        ).scale(0.6)\n",
    "\n",
    "        text = Text(\"(Row, Column)\").scale(0.5).next_to(table, UP*2)\n",
    "\n",
    "        table.add_highlighted_cell((1,2), color=GREEN)\n",
    "        table.add_highlighted_cell((1,3), color=RED)\n",
    "        table.add_highlighted_cell((1,4), color=YELLOW)\n",
    "\n",
    "        for c in range(2,5):\n",
    "            for r in range(2,4):\n",
    "                table.add_highlighted_cell((r,c), color = BLUE)\n",
    "                                \n",
    "        \n",
    "        self.play(Write(table), Write(text))\n",
    "\n",
    "        self.wait(5)\n",
    "\n",
    "\n",
    "# don't remove below command for run button to work\n",
    "%manim -qm -v WARNING Myscene\n"
   ]
  },
  {
   "cell_type": "code",
   "execution_count": 64,
   "id": "3e28710d-b954-405c-8b3e-7ca2306c042c",
   "metadata": {},
   "outputs": [
    {
     "data": {
      "text/plain": [
       "x           -3.5\n",
       "y       0.000873\n",
       "cols     #FF0000\n",
       "labs        -3.5\n",
       "Name: 0, dtype: object"
      ]
     },
     "execution_count": 64,
     "metadata": {},
     "output_type": "execute_result"
    }
   ],
   "source": [
    "\n",
    "histogram_direct.iloc[0]"
   ]
  },
  {
   "cell_type": "code",
   "execution_count": 65,
   "id": "1a5ab37c-18e2-4f38-b59e-0d83332e3b91",
   "metadata": {},
   "outputs": [
    {
     "data": {
      "text/plain": [
       "-3.5"
      ]
     },
     "execution_count": 65,
     "metadata": {},
     "output_type": "execute_result"
    }
   ],
   "source": [
    "\n",
    "\n",
    "histogram_direct.iloc[0]['x']\n"
   ]
  },
  {
   "cell_type": "code",
   "execution_count": 78,
   "id": "36c2d7b2-51b3-44d7-954e-f6d80d84bf22",
   "metadata": {},
   "outputs": [
    {
     "data": {
      "text/plain": [
       "array(['x', 'y', 'cols', 'labs'], dtype=object)"
      ]
     },
     "execution_count": 78,
     "metadata": {},
     "output_type": "execute_result"
    }
   ],
   "source": [
    "histo_list = histogram_direct.values.tolist()\n",
    "\n",
    "\n",
    "histo_list[0][0]\n",
    "#histo_list\n",
    "\n",
    "len(histo_list[0])\n",
    "\n",
    "for rowcount in range(len(histo_list)):\n",
    "    for cellcount in range(len(histo_list[rowcount])):\n",
    "        histo_list[rowcount][cellcount] = str(histo_list[rowcount][cellcount])\n",
    "        \n",
    "        \n",
    "histo_list\n",
    "\n",
    "histogram_direct.columns.values"
   ]
  },
  {
   "cell_type": "code",
   "execution_count": 80,
   "id": "4db421fc-13c6-4e48-913d-d830ba7d8454",
   "metadata": {},
   "outputs": [
    {
     "name": "stderr",
     "output_type": "stream",
     "text": [
      "                                                                                            \r"
     ]
    },
    {
     "data": {
      "text/html": [
       "<video src=\"media/jupyter/Myscene2@2025-01-31@13-42-54.mp4\" controls autoplay loop style=\"max-width: 60%;\"  >\n",
       "      Your browser does not support the <code>video</code> element.\n",
       "    </video>"
      ],
      "text/plain": [
       "<IPython.core.display.Video object>"
      ]
     },
     "metadata": {},
     "output_type": "display_data"
    }
   ],
   "source": [
    "\n",
    "class Myscene2(Scene):\n",
    "    def construct(self):\n",
    "        table = Table(histo_list[:5],\n",
    "        include_outer_lines = True,\n",
    "        col_labels = [Text(\"x\"),Text(\"y\"),Text(\"cols\"),Text(\"labs\")]).scale(0.4)\n",
    "\n",
    "        \n",
    "        self.play(Write(table))\n",
    "\n",
    "        self.wait(5)\n",
    "\n",
    "\n",
    "# don't remove below command for run button to work\n",
    "%manim -qm -v WARNING Myscene2\n"
   ]
  },
  {
   "cell_type": "code",
   "execution_count": null,
   "id": "7ea4e657-ec6d-4709-ba20-7e5001a8220c",
   "metadata": {},
   "outputs": [],
   "source": []
  }
 ],
 "metadata": {
  "kernelspec": {
   "display_name": "Python 3",
   "language": "python",
   "name": "python3"
  },
  "language_info": {
   "codemirror_mode": {
    "name": "ipython",
    "version": 3
   },
   "file_extension": ".py",
   "mimetype": "text/x-python",
   "name": "python",
   "nbconvert_exporter": "python",
   "pygments_lexer": "ipython3",
   "version": "3.12.1"
  }
 },
 "nbformat": 4,
 "nbformat_minor": 5
}
