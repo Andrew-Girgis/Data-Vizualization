{
 "cells": [
  {
   "cell_type": "code",
   "execution_count": 2,
   "id": "918621cb-f987-4762-b733-b291614d31b3",
   "metadata": {},
   "outputs": [
    {
     "data": {
      "text/html": [
       "<pre style=\"white-space:pre;overflow-x:auto;line-height:normal;font-family:Menlo,'DejaVu Sans Mono',consolas,'Courier New',monospace\">Manim Community <span style=\"color: #008000; text-decoration-color: #008000\">v0.16.0.post0</span>\n",
       "\n",
       "</pre>\n"
      ],
      "text/plain": [
       "Manim Community \u001b[32mv0.\u001b[0m\u001b[32m16.0\u001b[0m\u001b[32m.post0\u001b[0m\n",
       "\n"
      ]
     },
     "metadata": {},
     "output_type": "display_data"
    }
   ],
   "source": [
    "import pandas\n",
    "import matplotlib.pyplot as plt\n",
    "import matplotlib as mpl\n",
    "import numpy as np\n",
    "from scipy import stats  # for KDE\n",
    "\n",
    "from manim import *"
   ]
  },
  {
   "cell_type": "code",
   "execution_count": null,
   "id": "ddbc4000-26a5-4d81-8776-d3b3288c5247",
   "metadata": {},
   "outputs": [],
   "source": [
    "# Transform shape. Turn a circle into a card shape\n",
    "\n",
    "# Rotate an object around another object\n",
    "\n",
    "# Morph text into other text\n"
   ]
  },
  {
   "cell_type": "code",
   "execution_count": null,
   "id": "afb88ceb-fbed-429a-91a9-f6cba3485001",
   "metadata": {},
   "outputs": [],
   "source": []
  },
  {
   "cell_type": "code",
   "execution_count": null,
   "id": "81267cfd-f7db-43bb-929d-6f468ab24381",
   "metadata": {},
   "outputs": [],
   "source": []
  },
  {
   "cell_type": "code",
   "execution_count": null,
   "id": "feda1499-17a5-47d1-a429-4917fd1f2523",
   "metadata": {},
   "outputs": [],
   "source": [
    "# Let's spin up and instance of Jupyter notebook!"
   ]
  },
  {
   "cell_type": "code",
   "execution_count": 70,
   "id": "4296c6a1-98a2-4890-9f0c-059c1c3c711c",
   "metadata": {},
   "outputs": [
    {
     "name": "stderr",
     "output_type": "stream",
     "text": [
      "                                                                                  \r"
     ]
    },
    {
     "data": {
      "text/html": [
       "<video src=\"media/jupyter/UsingRotate@2025-02-13@14-52-31.mp4\" controls autoplay loop style=\"max-width: 60%;\"  >\n",
       "      Your browser does not support the <code>video</code> element.\n",
       "    </video>"
      ],
      "text/plain": [
       "<IPython.core.display.Video object>"
      ]
     },
     "metadata": {},
     "output_type": "display_data"
    }
   ],
   "source": [
    "class UsingRotate(Scene):\n",
    "    def construct(self):\n",
    "        self.play(\n",
    "            Rotate(\n",
    "                Square(side_length=0.5).shift(UP * 2),\n",
    "                angle=2*PI,\n",
    "                about_point=ORIGIN,\n",
    "                rate_func=linear,\n",
    "            ),\n",
    "            Rotate(Square(side_length=0.5), angle=2*PI, rate_func=linear),\n",
    "            )\n",
    "\n",
    "\n",
    "\n",
    "# don't remove below command for run button to work\n",
    "%manim -qm -v WARNING UsingRotate"
   ]
  },
  {
   "cell_type": "code",
   "execution_count": null,
   "id": "a57f0502-2026-4d8a-a75c-f24200f91d73",
   "metadata": {},
   "outputs": [],
   "source": []
  },
  {
   "cell_type": "code",
   "execution_count": null,
   "id": "52240596-ecec-4e04-b655-659816360066",
   "metadata": {},
   "outputs": [],
   "source": [
    "#  Homotopy is our first custom definition within the construct(self)\n",
    "#  definition. A homotopy is an effect applied to the listed mobjects in the animation.\n",
    "\n",
    "#  A homotopy takes in the coordinates x,y,z, and time value t and \n",
    "# returns a set of coordinates on x,y,z  as a function of x,y,z, and t."
   ]
  },
  {
   "cell_type": "code",
   "execution_count": 15,
   "id": "26ad2d27-1d71-452a-b7f9-b9203eb3762b",
   "metadata": {},
   "outputs": [
    {
     "name": "stderr",
     "output_type": "stream",
     "text": [
      "                                                                    \r"
     ]
    },
    {
     "data": {
      "text/html": [
       "<video src=\"media/jupyter/HomotopyExample@2025-02-13@12-49-08.mp4\" controls autoplay loop style=\"max-width: 60%;\"  >\n",
       "      Your browser does not support the <code>video</code> element.\n",
       "    </video>"
      ],
      "text/plain": [
       "<IPython.core.display.Video object>"
      ]
     },
     "metadata": {},
     "output_type": "display_data"
    }
   ],
   "source": [
    "# In this first example, we apply a sine wave transformation to \n",
    "# the y-axis, which increases linearly by t.\n",
    "# Specifically, in 4t sin(x), time t is the scale, and \n",
    "# x how far along the sine wave.\n",
    "class HomotopyExample(Scene):\n",
    "    def construct(self):\n",
    "        square = Square()\n",
    "\n",
    "        def homotopy(x, y, z, t):\n",
    "            return (x, y + t * 4 * np.sin(x), z)\n",
    "\n",
    "        self.play(Homotopy(homotopy, square, rate_func= linear, run_time=2*PI))\n",
    "\n",
    "\n",
    "\n",
    "# don't remove below command for run button to work\n",
    "%manim -qm -v WARNING HomotopyExample"
   ]
  },
  {
   "cell_type": "code",
   "execution_count": 16,
   "id": "23f97d89-6e07-4842-8772-4f22e0feb736",
   "metadata": {},
   "outputs": [
    {
     "name": "stderr",
     "output_type": "stream",
     "text": [
      "                                                                                 \r"
     ]
    },
    {
     "data": {
      "text/html": [
       "<video src=\"media/jupyter/HomotopyExample@2025-02-13@12-51-26.mp4\" controls autoplay loop style=\"max-width: 60%;\"  >\n",
       "      Your browser does not support the <code>video</code> element.\n",
       "    </video>"
      ],
      "text/plain": [
       "<IPython.core.display.Video object>"
      ]
     },
     "metadata": {},
     "output_type": "display_data"
    }
   ],
   "source": [
    "# If instead, we use a constant scale, \n",
    "# and set t to be how far along the sine wave, \n",
    "# we get a bouncing effect.\n",
    "class HomotopyExample(Scene):\n",
    "    def construct(self):\n",
    "        square = Square()\n",
    "\n",
    "        def homotopy(x, y, z, t):\n",
    "            return (x, y + 4 * np.sin(t), z) # This line has changed\n",
    "\n",
    "        self.play(Homotopy(homotopy, square, rate_func= linear, run_time=2*PI))\n",
    "\n",
    "\n",
    "\n",
    "# don't remove below command for run button to work\n",
    "%manim -qm -v WARNING HomotopyExample"
   ]
  },
  {
   "cell_type": "code",
   "execution_count": 17,
   "id": "181bf896-86c0-4ec4-92d7-4ce232b496e1",
   "metadata": {},
   "outputs": [
    {
     "name": "stderr",
     "output_type": "stream",
     "text": [
      "                                                                                 \r"
     ]
    },
    {
     "data": {
      "text/html": [
       "<video src=\"media/jupyter/HomotopyExample@2025-02-13@12-52-26.mp4\" controls autoplay loop style=\"max-width: 60%;\"  >\n",
       "      Your browser does not support the <code>video</code> element.\n",
       "    </video>"
      ],
      "text/plain": [
       "<IPython.core.display.Video object>"
      ]
     },
     "metadata": {},
     "output_type": "display_data"
    }
   ],
   "source": [
    "# Remove the 4x scaling, and use 10*t inside the sin() \n",
    "# to speed things up.\n",
    "class HomotopyExample(Scene):\n",
    "    def construct(self):\n",
    "        square = Square()\n",
    "\n",
    "        def homotopy(x, y, z, t):\n",
    "            return (x, y + np.sin(10*t), z) # This line has changed\n",
    "\n",
    "        self.play(Homotopy(homotopy, square, rate_func= linear, run_time=2*PI))\n",
    "\n",
    "\n",
    "\n",
    "# don't remove below command for run button to work\n",
    "%manim -qm -v WARNING HomotopyExample"
   ]
  },
  {
   "cell_type": "code",
   "execution_count": 28,
   "id": "a06c1b93-2581-49eb-8ad9-0cffed613040",
   "metadata": {},
   "outputs": [
    {
     "name": "stderr",
     "output_type": "stream",
     "text": [
      "                                                                       \r"
     ]
    },
    {
     "data": {
      "text/html": [
       "<video src=\"media/jupyter/HomotopyExample@2025-02-13@12-59-12.mp4\" controls autoplay loop style=\"max-width: 60%;\"  >\n",
       "      Your browser does not support the <code>video</code> element.\n",
       "    </video>"
      ],
      "text/plain": [
       "<IPython.core.display.Video object>"
      ]
     },
     "metadata": {},
     "output_type": "display_data"
    }
   ],
   "source": [
    "# Make it a function of both x and t and now it's a rolling wave.\n",
    "# Change from a square to a rectangle to see this better.\n",
    "class HomotopyExample(Scene):\n",
    "    def construct(self):\n",
    "        rect = Rectangle(width=10.0, height=1.0) # This line has changed\n",
    "\n",
    "        def homotopy(x, y, z, t):\n",
    "            return (x, y + 0.25*np.sin(10*t + 5*x), z) # This line has changed\n",
    "\n",
    "        self.play(Homotopy(homotopy, rect, rate_func= linear, run_time=4*PI))\n",
    "\n",
    "\n",
    "\n",
    "# don't remove below command for run button to work\n",
    "%manim -qm -v WARNING HomotopyExample"
   ]
  },
  {
   "cell_type": "code",
   "execution_count": 30,
   "id": "c4a820de-cb6a-4a4d-aa34-68cac944a2b6",
   "metadata": {},
   "outputs": [
    {
     "name": "stderr",
     "output_type": "stream",
     "text": [
      "                                                                                                 \r"
     ]
    },
    {
     "data": {
      "text/html": [
       "<video src=\"media/jupyter/HomotopyExample@2025-02-13@13-02-46.mp4\" controls autoplay loop style=\"max-width: 60%;\"  >\n",
       "      Your browser does not support the <code>video</code> element.\n",
       "    </video>"
      ],
      "text/plain": [
       "<IPython.core.display.Video object>"
      ]
     },
     "metadata": {},
     "output_type": "display_data"
    }
   ],
   "source": [
    "# To apply this to more than one mobject, put them together in a Vgroup\n",
    "# Notice how the homotopy affects different mobjects differently\n",
    "class HomotopyExample(Scene):\n",
    "    def construct(self):\n",
    "        rect = Rectangle(width=10.0, height=1.0) \n",
    "        \n",
    "        # These lines have changed\n",
    "        text = Text('Ride the wave', color=BLUE).scale(3).next_to(rect, UP)\n",
    "        both = VGroup(rect, text) \n",
    "        \n",
    "        \n",
    "        def homotopy(x, y, z, t):\n",
    "            return (x, y + 0.25*np.sin(10*t + 5*x), z) \n",
    "\n",
    "        # This line has changed\n",
    "        self.play(Homotopy(homotopy, both, rate_func= linear, run_time=4*PI))\n",
    "\n",
    "\n",
    "\n",
    "# don't remove below command for run button to work\n",
    "%manim -qm -v WARNING HomotopyExample"
   ]
  },
  {
   "cell_type": "code",
   "execution_count": 31,
   "id": "f1db7586-7362-40c4-b8b7-9c98a895d253",
   "metadata": {},
   "outputs": [],
   "source": [
    " # One more from the community example repository\n",
    "# https://docs.manim.community/en/stable/reference/manim.animation.movement.Homotopy.html"
   ]
  },
  {
   "cell_type": "code",
   "execution_count": 3,
   "id": "6e770562-f6bf-42bd-a333-93424f864100",
   "metadata": {},
   "outputs": [
    {
     "name": "stderr",
     "output_type": "stream",
     "text": [
      "                                                                               \r"
     ]
    },
    {
     "data": {
      "text/html": [
       "<video src=\"media/jupyter/HomotopyExample@2025-02-13@12-23-02.mp4\" controls autoplay loop style=\"max-width: 60%;\"  >\n",
       "      Your browser does not support the <code>video</code> element.\n",
       "    </video>"
      ],
      "text/plain": [
       "<IPython.core.display.Video object>"
      ]
     },
     "metadata": {},
     "output_type": "display_data"
    }
   ],
   "source": [
    "#\n",
    "class HomotopyExample(Scene):\n",
    "    def construct(self):\n",
    "        square = Square()\n",
    "\n",
    "        def homotopy(x, y, z, t):\n",
    "            if t <= 0.25:\n",
    "                progress = t / 0.25\n",
    "                return (x, y + progress * 0.2 * np.sin(x), z)\n",
    "            else:\n",
    "                wave_progress = (t - 0.25) / 0.75\n",
    "                return (x, y + 0.2 * np.sin(x + 10 * wave_progress), z)\n",
    "\n",
    "        self.play(Homotopy(homotopy, square, rate_func= linear, run_time=2))\n",
    "\n",
    "\n",
    "\n",
    "# don't remove below command for run button to work\n",
    "%manim -qm -v WARNING HomotopyExample"
   ]
  },
  {
   "cell_type": "code",
   "execution_count": 46,
   "id": "61e615f0-0af9-4774-8860-7e5c8d9e6ca8",
   "metadata": {},
   "outputs": [],
   "source": []
  },
  {
   "cell_type": "code",
   "execution_count": 48,
   "id": "f5ed6949-003f-4768-a740-28e94ea00dd0",
   "metadata": {},
   "outputs": [
    {
     "data": {
      "image/png": "[encoded data removed]",
      "text/plain": [
       "<IPython.core.display.Image object>"
      ]
     },
     "metadata": {},
     "output_type": "display_data"
    }
   ],
   "source": []
  },
  {
   "cell_type": "code",
   "execution_count": 52,
   "id": "f3d84e3b-4845-482f-aeab-f15cb37a382d",
   "metadata": {},
   "outputs": [
    {
     "name": "stderr",
     "output_type": "stream",
     "text": [
      "                                                                                      \r"
     ]
    },
    {
     "data": {
      "text/html": [
       "<video src=\"media/jupyter/ScaleInPlaceExample@2025-02-13@14-24-34.mp4\" controls autoplay loop style=\"max-width: 60%;\"  >\n",
       "      Your browser does not support the <code>video</code> element.\n",
       "    </video>"
      ],
      "text/plain": [
       "<IPython.core.display.Video object>"
      ]
     },
     "metadata": {},
     "output_type": "display_data"
    }
   ],
   "source": [
    "# ScaleInPlace scales something up to given scale while maintaining its centre.\n",
    "\n",
    "class ScaleInPlaceExample(Scene):\n",
    "    def construct(self):\n",
    "        \n",
    "        text = Text(\"Hello World!\")\n",
    "        square = Square()\n",
    "        self.play(ScaleInPlace(text, 2))\n",
    "        self.wait(1.5)\n",
    "        self.play(ScaleInPlace(square, 3))\n",
    "\n",
    "\n",
    "# don't remove below command for run button to work\n",
    "%manim -qm -v WARNING ScaleInPlaceExample"
   ]
  },
  {
   "cell_type": "code",
   "execution_count": 55,
   "id": "5a6b69e5-c00b-4ac2-85ef-eaa17ed882d9",
   "metadata": {},
   "outputs": [
    {
     "name": "stderr",
     "output_type": "stream",
     "text": [
      "                                                                                                \r"
     ]
    },
    {
     "data": {
      "text/html": [
       "<video src=\"media/jupyter/ScaleInPlaceExample2@2025-02-13@14-27-02.mp4\" controls autoplay loop style=\"max-width: 60%;\"  >\n",
       "      Your browser does not support the <code>video</code> element.\n",
       "    </video>"
      ],
      "text/plain": [
       "<IPython.core.display.Video object>"
      ]
     },
     "metadata": {},
     "output_type": "display_data"
    }
   ],
   "source": [
    "# ScaleInPlace's scaling multiplies its current scale, \n",
    "# it does not set the scale to certain value.\n",
    "# So if you wish to use it to scale something up to 2, \n",
    "# and then back down to 1, you need to use ScaleInPlace(... , 0.5)\n",
    "\n",
    "class ScaleInPlaceExample2(Scene):\n",
    "    def construct(self):\n",
    "        \n",
    "        text = Text(\"Hello World!\")\n",
    "        square = Square()\n",
    "        self.play(ScaleInPlace(text, 2))\n",
    "        self.wait(1.5)\n",
    "        self.play(ScaleInPlace(text, 0.5))\n",
    "        self.wait(1.5)\n",
    "\n",
    "# don't remove below command for run button to work\n",
    "%manim -qm -v WARNING ScaleInPlaceExample2"
   ]
  },
  {
   "cell_type": "code",
   "execution_count": 51,
   "id": "ae49e541-b90b-48da-b695-da9cfed1683c",
   "metadata": {},
   "outputs": [
    {
     "name": "stderr",
     "output_type": "stream",
     "text": [
      "                                                                                                \r"
     ]
    },
    {
     "data": {
      "text/html": [
       "<video src=\"media/jupyter/ScaleInPlaceExample@2025-02-13@14-23-06.mp4\" controls autoplay loop style=\"max-width: 60%;\"  >\n",
       "      Your browser does not support the <code>video</code> element.\n",
       "    </video>"
      ],
      "text/plain": [
       "<IPython.core.display.Video object>"
      ]
     },
     "metadata": {},
     "output_type": "display_data"
    }
   ],
   "source": [
    "# self.play acts like a self.add as well.\n",
    "# if you self.play something and it has not yet been added to the scene, it will be added.\n",
    "# if you self.add first, it appears in the scene, but only \n",
    "# has its animation applied when self.play() is run.\n",
    "\n",
    "class ScaleInPlaceExample3(Scene):\n",
    "    def construct(self):\n",
    "        \n",
    "        text = Text(\"Hello World!\")\n",
    "        square = Square()\n",
    "        \n",
    "        self.add(text, square)\n",
    "        self.play(ScaleInPlace(text, 2))\n",
    "        self.wait(1.5)\n",
    "        self.play(ScaleInPlace(square, 3))\n",
    "\n",
    "\n",
    "\n",
    "# don't remove below command for run button to work\n",
    "%manim -qm -v WARNING ScaleInPlaceExample3"
   ]
  },
  {
   "cell_type": "code",
   "execution_count": 56,
   "id": "68895504-caae-4bac-a63a-d068ae75f039",
   "metadata": {},
   "outputs": [
    {
     "name": "stderr",
     "output_type": "stream",
     "text": [
      "                                                                                                      \r"
     ]
    },
    {
     "data": {
      "text/html": [
       "<video src=\"media/jupyter/ScaleInPlaceExample4@2025-02-13@14-29-03.mp4\" controls autoplay loop style=\"max-width: 60%;\"  >\n",
       "      Your browser does not support the <code>video</code> element.\n",
       "    </video>"
      ],
      "text/plain": [
       "<IPython.core.display.Video object>"
      ]
     },
     "metadata": {},
     "output_type": "display_data"
    }
   ],
   "source": [
    "# you can include multiple mobjects in self.play(), \n",
    "# just like you can in self.add()\n",
    "\n",
    "class ScaleInPlaceExample4(Scene):\n",
    "    def construct(self):\n",
    "        \n",
    "        text = Text(\"Hello World!\")\n",
    "        square = Square()\n",
    "        \n",
    "        self.play(ScaleInPlace(text, 2), ScaleInPlace(square, 3))\n",
    "        self.wait(1.5)\n",
    "\n",
    "\n",
    "\n",
    "# don't remove below command for run button to work\n",
    "%manim -qm -v WARNING ScaleInPlaceExample4"
   ]
  },
  {
   "cell_type": "code",
   "execution_count": 57,
   "id": "667936e1-f386-44e5-9026-95055a4891e0",
   "metadata": {},
   "outputs": [
    {
     "name": "stderr",
     "output_type": "stream",
     "text": [
      "                                                                                                   \r"
     ]
    },
    {
     "data": {
      "text/html": [
       "<video src=\"media/jupyter/ScaleInPlaceExample5@2025-02-13@14-31-39.mp4\" controls autoplay loop style=\"max-width: 60%;\"  >\n",
       "      Your browser does not support the <code>video</code> element.\n",
       "    </video>"
      ],
      "text/plain": [
       "<IPython.core.display.Video object>"
      ]
     },
     "metadata": {},
     "output_type": "display_data"
    }
   ],
   "source": [
    "# You can also Vgroup mobjects together and self play that.\n",
    "# notice that you have to scale them to the same thing if you do this\n",
    "\n",
    "class ScaleInPlaceExample5(Scene):\n",
    "    def construct(self):\n",
    "        \n",
    "        text = Text(\"Hello World!\")\n",
    "        square = Square()\n",
    "        both = VGroup(text, square)\n",
    "        \n",
    "        self.play(ScaleInPlace(both, 2))\n",
    "        self.wait(1.5)\n",
    "\n",
    "\n",
    "\n",
    "# don't remove below command for run button to work\n",
    "%manim -qm -v WARNING ScaleInPlaceExample5"
   ]
  },
  {
   "cell_type": "code",
   "execution_count": null,
   "id": "b39c1eac-378e-4d9b-9d51-b527e6bfc5ff",
   "metadata": {},
   "outputs": [],
   "source": []
  },
  {
   "cell_type": "code",
   "execution_count": 59,
   "id": "c8059aa7-bb42-40e9-957b-6287e12f9936",
   "metadata": {},
   "outputs": [
    {
     "name": "stderr",
     "output_type": "stream",
     "text": [
      "                                                                                                   \r"
     ]
    },
    {
     "data": {
      "text/html": [
       "<video src=\"media/jupyter/ScaleInPlaceExample6@2025-02-13@14-33-15.mp4\" controls autoplay loop style=\"max-width: 60%;\"  >\n",
       "      Your browser does not support the <code>video</code> element.\n",
       "    </video>"
      ],
      "text/plain": [
       "<IPython.core.display.Video object>"
      ]
     },
     "metadata": {},
     "output_type": "display_data"
    }
   ],
   "source": [
    "# When ScaleInPlace-ing a Vgroup, the centre of the group is used.\n",
    "class ScaleInPlaceExample6(Scene):\n",
    "    def construct(self):\n",
    "        \n",
    "        text = Text(\"Hello World!\")\n",
    "        text.shift(2*UP)\n",
    "        square = Square()\n",
    "        both = VGroup(text, square)\n",
    "        \n",
    "        self.play(ScaleInPlace(both, 2))\n",
    "        self.wait(1.5)\n",
    "\n",
    "\n",
    "\n",
    "# don't remove below command for run button to work\n",
    "%manim -qm -v WARNING ScaleInPlaceExample6\n",
    "    "
   ]
  },
  {
   "cell_type": "code",
   "execution_count": null,
   "id": "9c91797a-2afc-4b2b-9326-c2de786a3f42",
   "metadata": {},
   "outputs": [],
   "source": []
  },
  {
   "cell_type": "code",
   "execution_count": null,
   "id": "b554b7c0-5166-4db2-9517-dc0e503081de",
   "metadata": {},
   "outputs": [],
   "source": [
    "# For this next example, we need to explain the unpacking of variables (arguments) first.\n",
    "# This is done by putting a * before the object in question.\n",
    "# and it turns something that has been packed together into a single object\n",
    "# back into its component elements.\n",
    "# See: https://docs.python.org/3/tutorial/controlflow.html#tut-unpacking-arguments"
   ]
  },
  {
   "cell_type": "code",
   "execution_count": 33,
   "id": "80185252-34f0-4c05-b1aa-e581e813c00e",
   "metadata": {},
   "outputs": [
    {
     "data": {
      "text/plain": [
       "[3, 6]"
      ]
     },
     "execution_count": 33,
     "metadata": {},
     "output_type": "execute_result"
    }
   ],
   "source": [
    "# This makes a list of length 2 of values\n",
    "args = [3, 6]\n",
    "args\n"
   ]
  },
  {
   "cell_type": "code",
   "execution_count": 37,
   "id": "0bdde8d3-d46d-4bd8-a47d-a7f1a9e28c26",
   "metadata": {},
   "outputs": [
    {
     "data": {
      "text/plain": [
       "[3, 4, 5]"
      ]
     },
     "execution_count": 37,
     "metadata": {},
     "output_type": "execute_result"
    }
   ],
   "source": [
    "# We can make a range using the arguments of the literal values 3 and 6\n",
    "list(range(3, 6))"
   ]
  },
  {
   "cell_type": "code",
   "execution_count": 39,
   "id": "34cc3463-f0fb-414c-9b41-31b9f622a11e",
   "metadata": {},
   "outputs": [
    {
     "data": {
      "text/plain": [
       "[3, 4, 5]"
      ]
     },
     "execution_count": 39,
     "metadata": {},
     "output_type": "execute_result"
    }
   ],
   "source": [
    "# We can refer to specific elements in args to do the same\n",
    "list(range(args[0], args[1]))"
   ]
  },
  {
   "cell_type": "code",
   "execution_count": 36,
   "id": "a5b6c572-31ac-4ec9-8796-c59438716f0b",
   "metadata": {},
   "outputs": [
    {
     "ename": "TypeError",
     "evalue": "'list' object cannot be interpreted as an integer",
     "output_type": "error",
     "traceback": [
      "\u001b[0;31m---------------------------------------------------------------------------\u001b[0m",
      "\u001b[0;31mTypeError\u001b[0m                                 Traceback (most recent call last)",
      "Input \u001b[0;32mIn [36]\u001b[0m, in \u001b[0;36m<cell line: 1>\u001b[0;34m()\u001b[0m\n\u001b[0;32m----> 1\u001b[0m \u001b[38;5;28mlist\u001b[39m(\u001b[38;5;28;43mrange\u001b[39;49m\u001b[43m(\u001b[49m\u001b[43margs\u001b[49m\u001b[43m)\u001b[49m)\n",
      "\u001b[0;31mTypeError\u001b[0m: 'list' object cannot be interpreted as an integer"
     ]
    }
   ],
   "source": [
    "# We cannot use args as a single argument in range\n",
    "list(range(args))"
   ]
  },
  {
   "cell_type": "code",
   "execution_count": 38,
   "id": "bc037dfc-334e-45cc-a5ea-44a0696ff5e2",
   "metadata": {},
   "outputs": [
    {
     "data": {
      "text/plain": [
       "[3, 4, 5]"
      ]
     },
     "execution_count": 38,
     "metadata": {},
     "output_type": "execute_result"
    }
   ],
   "source": [
    "# ...unless we unpack it first\n",
    "list(range(*args))"
   ]
  },
  {
   "cell_type": "code",
   "execution_count": null,
   "id": "b2f3f365-3631-4ceb-974e-d239608e9df5",
   "metadata": {},
   "outputs": [],
   "source": [
    "# similarly, when we make a VGroup of mobjects like this\n",
    "#  group = VGroup(Square(), Circle(), Triangle(), Star())\n",
    "#  we can apply functions to the group, but there's no \n",
    "#  elegant way to apply things to specific elements of the group\n",
    "#  unless we use *group"
   ]
  },
  {
   "cell_type": "code",
   "execution_count": 40,
   "id": "7b52bcaf-ba2b-45cc-a900-daaac92e5f70",
   "metadata": {},
   "outputs": [
    {
     "data": {
      "image/png": "[encoded data removed]",
      "text/plain": [
       "<IPython.core.display.Image object>"
      ]
     },
     "metadata": {},
     "output_type": "display_data"
    }
   ],
   "source": [
    "# Let's make a group of mobjects, and arrange them from left to right \n",
    "# with group.arrange(RIGHT)\n",
    "\n",
    "class CyclicReplaceExample(Scene):\n",
    "    def construct(self):\n",
    "        group = VGroup(Square(), Circle(), Triangle(), Star())\n",
    "        group.arrange(RIGHT)\n",
    "        self.add(group)\n",
    "\n",
    "# don't remove below command for run button to work\n",
    "%manim -qm -v WARNING CyclicReplaceExample"
   ]
  },
  {
   "cell_type": "code",
   "execution_count": 42,
   "id": "8f9974f4-f16c-4705-b5a7-a25a277e164f",
   "metadata": {},
   "outputs": [
    {
     "name": "stderr",
     "output_type": "stream",
     "text": [
      "                                                                        \r"
     ]
    },
    {
     "data": {
      "text/html": [
       "<video src=\"media/jupyter/CyclicReplaceExample2@2025-02-13@14-03-34.mp4\" controls autoplay loop style=\"max-width: 60%;\"  >\n",
       "      Your browser does not support the <code>video</code> element.\n",
       "    </video>"
      ],
      "text/plain": [
       "<IPython.core.display.Video object>"
      ]
     },
     "metadata": {},
     "output_type": "display_data"
    }
   ],
   "source": [
    "# CyclicReplace takes an UNPACKED list of mobjects\n",
    "# and physically moves them\n",
    "# here, objects 1,2,3,4 \n",
    "# is cycled to objects 4,1,2,3\n",
    "\n",
    "class CyclicReplaceExample2(Scene):\n",
    "    def construct(self):\n",
    "        group = VGroup(Square(), Circle(), Triangle(), Star())\n",
    "        group.arrange(RIGHT)\n",
    "        self.add(group)\n",
    "\n",
    "        self.play(CyclicReplace(*group))\n",
    "        self.wait(2)\n",
    "\n",
    "\n",
    "# don't remove below command for run button to work\n",
    "%manim -qm -v WARNING CyclicReplaceExample2"
   ]
  },
  {
   "cell_type": "code",
   "execution_count": 45,
   "id": "4cc519a7-d91e-4a1d-90a8-c7b3cb909d6f",
   "metadata": {},
   "outputs": [
    {
     "name": "stderr",
     "output_type": "stream",
     "text": [
      "                                                                                  \r"
     ]
    },
    {
     "data": {
      "text/html": [
       "<video src=\"media/jupyter/CyclicReplaceExample@2025-02-13@14-06-14.mp4\" controls autoplay loop style=\"max-width: 60%;\"  >\n",
       "      Your browser does not support the <code>video</code> element.\n",
       "    </video>"
      ],
      "text/plain": [
       "<IPython.core.display.Video object>"
      ]
     },
     "metadata": {},
     "output_type": "display_data"
    }
   ],
   "source": [
    "# By adding a for() loop we can cycle through all four arrangements.\n",
    "# Note that _ means \"No argument\", \n",
    "# as in we don't need a count argument for the for loop, \n",
    "# we just want to run exactly the same code 4 times.\n",
    "# Source: https://docs.manim.community/en/stable/reference/manim.animation.transform.CyclicReplace.html\n",
    "\n",
    "class CyclicReplaceExample(Scene):\n",
    "    def construct(self):\n",
    "        group = VGroup(Square(), Circle(), Triangle(), Star())\n",
    "        group.arrange(RIGHT)\n",
    "        self.add(group)\n",
    "\n",
    "        for _ in range(4):\n",
    "            self.play(CyclicReplace(*group))\n",
    "        \n",
    "        self.wait(2)\n",
    "\n",
    "\n",
    "\n",
    "# don't remove below command for run button to work\n",
    "%manim -qm -v WARNING CyclicReplaceExample"
   ]
  },
  {
   "cell_type": "code",
   "execution_count": 62,
   "id": "bae7b947-2a67-44c0-a07b-9e09102e0084",
   "metadata": {},
   "outputs": [],
   "source": [
    "# Now for the big one, transforming one mobject into another\n",
    "# ReplacementTransform(a, b)\n",
    "# Turns mobject a into mobject b, leaving nothing behind."
   ]
  },
  {
   "cell_type": "code",
   "execution_count": 67,
   "id": "c596cfdd-339d-4788-9011-35b5dad3929e",
   "metadata": {},
   "outputs": [
    {
     "name": "stderr",
     "output_type": "stream",
     "text": [
      "                                                                                 \r"
     ]
    },
    {
     "data": {
      "text/html": [
       "<video src=\"media/jupyter/ReplacementTransform1@2025-02-13@14-48-24.mp4\" controls autoplay loop style=\"max-width: 60%;\"  >\n",
       "      Your browser does not support the <code>video</code> element.\n",
       "    </video>"
      ],
      "text/plain": [
       "<IPython.core.display.Video object>"
      ]
     },
     "metadata": {},
     "output_type": "display_data"
    }
   ],
   "source": [
    "class ReplacementTransform1(Scene):\n",
    "    def construct(self):\n",
    "        # set up the numbers\n",
    "        r_transform = VGroup(*[Integer(i) for i in range(1,4)])\n",
    "        text_1 = Text(\"ReplacementTransform\", color=RED)\n",
    "        r_transform.add(text_1)\n",
    "\n",
    "        ints = VGroup(r_transform)\n",
    "        texts = VGroup(text_1).scale(0.75)\n",
    "        r_transform.arrange(direction=UP, buff=1)\n",
    "\n",
    "        self.add(ints, texts)\n",
    "\n",
    "        # The mobs replace each other and none are left behind\n",
    "        self.play(ReplacementTransform(r_transform[0], r_transform[1]))\n",
    "        self.play(ReplacementTransform(r_transform[1], r_transform[2]))\n",
    "\n",
    "        self.wait()\n",
    "\n",
    "\n",
    "\n",
    "# don't remove below command for run button to work\n",
    "%manim -qm -v WARNING ReplacementTransform1"
   ]
  },
  {
   "cell_type": "code",
   "execution_count": null,
   "id": "952a3731-5991-4dd6-87bc-96d93aaa9334",
   "metadata": {},
   "outputs": [],
   "source": []
  },
  {
   "cell_type": "code",
   "execution_count": 69,
   "id": "c98c0efb-3122-4db2-a201-f2d8d4b58205",
   "metadata": {},
   "outputs": [
    {
     "name": "stderr",
     "output_type": "stream",
     "text": [
      "                                                                                \r"
     ]
    },
    {
     "data": {
      "text/html": [
       "<video src=\"media/jupyter/Transform1@2025-02-13@14-49-16.mp4\" controls autoplay loop style=\"max-width: 60%;\"  >\n",
       "      Your browser does not support the <code>video</code> element.\n",
       "    </video>"
      ],
      "text/plain": [
       "<IPython.core.display.Video object>"
      ]
     },
     "metadata": {},
     "output_type": "display_data"
    }
   ],
   "source": [
    "# With transform, the mobject a stays, \n",
    "# and there is a new mobject b.\n",
    "\n",
    "class Transform1(Scene):\n",
    "    def construct(self):\n",
    "        # set up the numbers\n",
    "        r_transform = VGroup(*[Integer(i) for i in range(1,4)])\n",
    "        text_1 = Text(\"Transform\", color=RED)\n",
    "        r_transform.add(text_1)\n",
    "\n",
    "        ints = VGroup(r_transform)\n",
    "        texts = VGroup(text_1).scale(0.75)\n",
    "        r_transform.arrange(direction=UP, buff=1)\n",
    "\n",
    "        self.add(ints, texts)\n",
    "\n",
    "     # The mobs linger after the Transform()\n",
    "        self.play(Transform(r_transform[0], r_transform[1]))\n",
    "        self.wait()\n",
    "        \n",
    "        self.play(Transform(r_transform[1], r_transform[2]))\n",
    "        self.wait()\n",
    "\n",
    "\n",
    "\n",
    "# don't remove below command for run button to work\n",
    "%manim -qm -v WARNING Transform1"
   ]
  },
  {
   "cell_type": "code",
   "execution_count": 75,
   "id": "120c0c61-14dd-400a-9f7c-315bbe61176c",
   "metadata": {},
   "outputs": [
    {
     "name": "stderr",
     "output_type": "stream",
     "text": [
      "                                                                                                           \r"
     ]
    },
    {
     "data": {
      "text/html": [
       "<video src=\"media/jupyter/ReplacementTransform2@2025-02-13@14-58-05.mp4\" controls autoplay loop style=\"max-width: 60%;\"  >\n",
       "      Your browser does not support the <code>video</code> element.\n",
       "    </video>"
      ],
      "text/plain": [
       "<IPython.core.display.Video object>"
      ]
     },
     "metadata": {},
     "output_type": "display_data"
    }
   ],
   "source": [
    "class ReplacementTransform2(Scene):\n",
    "    def construct(self):\n",
    "        # set up the numbers\n",
    "        star = Star()\n",
    "        \n",
    "        circle = Circle().shift(1*RIGHT)\n",
    "        \n",
    "        mtext = MathTex(\"\\\\frac{d}{dx}f(x)g(x)=\").shift(2*DOWN)\n",
    "        \n",
    "        # Start with just the star mobject\n",
    "        self.add(star)\n",
    "\n",
    "        # transform and replace it with a circle\n",
    "        self.play(ReplacementTransform(star, circle))\n",
    "        self.wait(2)\n",
    "        \n",
    "        # and then with some math\n",
    "        self.play(ReplacementTransform(circle, mtext))\n",
    "        self.wait(2)\n",
    "\n",
    "        # and back to star\n",
    "        # wait, what? Why is it a circle now?\n",
    "        # because the mobject star has BEEN REPLACED with the circle\n",
    "        self.play(ReplacementTransform(mtext, star))\n",
    "        self.wait(2)\n",
    "\n",
    "# don't remove below command for run button to work\n",
    "%manim -qm -v WARNING ReplacementTransform2"
   ]
  },
  {
   "cell_type": "code",
   "execution_count": null,
   "id": "dacea814-5399-486f-b42c-4b6e66bf3afb",
   "metadata": {},
   "outputs": [],
   "source": []
  },
  {
   "cell_type": "code",
   "execution_count": null,
   "id": "7af03d74-6fa3-4745-862d-5643fe282877",
   "metadata": {},
   "outputs": [],
   "source": []
  },
  {
   "cell_type": "code",
   "execution_count": null,
   "id": "ed221b90-7c7f-46fb-8b7b-89ba45386afd",
   "metadata": {},
   "outputs": [],
   "source": []
  },
  {
   "cell_type": "code",
   "execution_count": null,
   "id": "2635a247-6233-43e9-9ddc-fc509483cc3c",
   "metadata": {},
   "outputs": [],
   "source": []
  },
  {
   "cell_type": "code",
   "execution_count": 49,
   "id": "10e760b7-7fe9-4dc1-859e-328cd042e02c",
   "metadata": {},
   "outputs": [
    {
     "data": {
      "image/png": "[encoded data removed]",
      "text/plain": [
       "<IPython.core.display.Image object>"
      ]
     },
     "metadata": {},
     "output_type": "display_data"
    }
   ],
   "source": [
    "# Just leaving this for reference for a later lab on 3D objects\n",
    "# https://docs.manim.community/en/stable/reference/manim.mobject.three_d.polyhedra.Polyhedron.html\n",
    "\n",
    "class SquarePyramidScene(ThreeDScene):\n",
    "    def construct(self):\n",
    "        self.set_camera_orientation(phi=75 * DEGREES, theta=30 * DEGREES)\n",
    "        vertex_coords = [\n",
    "            [1, 1, 0],\n",
    "            [1, -1, 0],\n",
    "            [-1, -1, 0],\n",
    "            [-1, 1, 0],\n",
    "            [0, 0, 2]\n",
    "        ]\n",
    "        faces_list = [\n",
    "            [0, 1, 4],\n",
    "            [1, 2, 4],\n",
    "            [2, 3, 4],\n",
    "            [3, 0, 4],\n",
    "            [0, 1, 2, 3]\n",
    "        ]\n",
    "        pyramid = Polyhedron(vertex_coords, faces_list)\n",
    "        self.add(pyramid)\n",
    "\n",
    "\n",
    "\n",
    "# don't remove below command for run button to work\n",
    "%manim -qm -v WARNING SquarePyramidScene"
   ]
  }
 ],
 "metadata": {
  "kernelspec": {
   "display_name": "Python 3",
   "language": "python",
   "name": "python3"
  },
  "language_info": {
   "codemirror_mode": {
    "name": "ipython",
    "version": 3
   },
   "file_extension": ".py",
   "mimetype": "text/x-python",
   "name": "python",
   "nbconvert_exporter": "python",
   "pygments_lexer": "ipython3",
   "version": "3.10.4"
  }
 },
 "nbformat": 4,
 "nbformat_minor": 5
}
